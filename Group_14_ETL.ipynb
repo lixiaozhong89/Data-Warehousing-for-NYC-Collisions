{
 "cells": [
  {
   "cell_type": "markdown",
   "metadata": {
    "id": "Xgb9X2uEyKs8"
   },
   "source": [
    "# Building an ETL Pipeline\n",
    "---"
   ]
  },
  {
   "cell_type": "markdown",
   "metadata": {
    "id": "HBl5-lhXyKs_"
   },
   "source": [
    "### Step 0: Install the required python packages"
   ]
  },
  {
   "cell_type": "code",
   "execution_count": 1,
   "metadata": {
    "colab": {
     "base_uri": "https://localhost:8080/"
    },
    "id": "784gjmj6yKs_",
    "outputId": "c8725428-ae0a-4962-cefc-9b0034af8cf0"
   },
   "outputs": [
    {
     "name": "stdout",
     "output_type": "stream",
     "text": [
      "Requirement already satisfied: sodapy in /Users/xiaozhongli/opt/anaconda3/lib/python3.8/site-packages (2.1.1)\n",
      "Requirement already satisfied: requests>=2.20.0 in /Users/xiaozhongli/opt/anaconda3/lib/python3.8/site-packages (from sodapy) (2.25.1)\n",
      "Requirement already satisfied: chardet<5,>=3.0.2 in /Users/xiaozhongli/opt/anaconda3/lib/python3.8/site-packages (from requests>=2.20.0->sodapy) (4.0.0)\n",
      "Requirement already satisfied: certifi>=2017.4.17 in /Users/xiaozhongli/opt/anaconda3/lib/python3.8/site-packages (from requests>=2.20.0->sodapy) (2020.12.5)\n",
      "Requirement already satisfied: urllib3<1.27,>=1.21.1 in /Users/xiaozhongli/opt/anaconda3/lib/python3.8/site-packages (from requests>=2.20.0->sodapy) (1.26.4)\n",
      "Requirement already satisfied: idna<3,>=2.5 in /Users/xiaozhongli/opt/anaconda3/lib/python3.8/site-packages (from requests>=2.20.0->sodapy) (2.10)\n",
      "Note: you may need to restart the kernel to use updated packages.\n"
     ]
    }
   ],
   "source": [
    "pip install --upgrade sodapy"
   ]
  },
  {
   "cell_type": "code",
   "execution_count": 2,
   "metadata": {
    "colab": {
     "base_uri": "https://localhost:8080/"
    },
    "id": "71pVZjv0yKtB",
    "outputId": "23e4077a-791c-4df9-ad99-f561f4fe611e"
   },
   "outputs": [
    {
     "name": "stdout",
     "output_type": "stream",
     "text": [
      "Requirement already satisfied: db-dtypes in /Users/xiaozhongli/opt/anaconda3/lib/python3.8/site-packages (1.0.1)\n",
      "Requirement already satisfied: pyarrow<9.0dev,>=3.0.0 in /Users/xiaozhongli/opt/anaconda3/lib/python3.8/site-packages (from db-dtypes) (8.0.0)\n",
      "Requirement already satisfied: packaging>=17.0 in /Users/xiaozhongli/opt/anaconda3/lib/python3.8/site-packages (from db-dtypes) (20.9)\n",
      "Requirement already satisfied: numpy<2.0dev,>=1.16.6 in /Users/xiaozhongli/opt/anaconda3/lib/python3.8/site-packages (from db-dtypes) (1.20.1)\n",
      "Requirement already satisfied: pandas<2.0dev,>=0.24.2 in /Users/xiaozhongli/opt/anaconda3/lib/python3.8/site-packages (from db-dtypes) (1.2.4)\n",
      "Requirement already satisfied: pyparsing>=2.0.2 in /Users/xiaozhongli/opt/anaconda3/lib/python3.8/site-packages (from packaging>=17.0->db-dtypes) (2.4.7)\n",
      "Requirement already satisfied: python-dateutil>=2.7.3 in /Users/xiaozhongli/opt/anaconda3/lib/python3.8/site-packages (from pandas<2.0dev,>=0.24.2->db-dtypes) (2.8.1)\n",
      "Requirement already satisfied: pytz>=2017.3 in /Users/xiaozhongli/opt/anaconda3/lib/python3.8/site-packages (from pandas<2.0dev,>=0.24.2->db-dtypes) (2021.1)\n",
      "Requirement already satisfied: six>=1.5 in /Users/xiaozhongli/opt/anaconda3/lib/python3.8/site-packages (from python-dateutil>=2.7.3->pandas<2.0dev,>=0.24.2->db-dtypes) (1.15.0)\n",
      "Note: you may need to restart the kernel to use updated packages.\n"
     ]
    }
   ],
   "source": [
    "pip install --upgrade db-dtypes"
   ]
  },
  {
   "cell_type": "code",
   "execution_count": 3,
   "metadata": {
    "colab": {
     "base_uri": "https://localhost:8080/"
    },
    "id": "f8Exj4oryKtB",
    "outputId": "3842319c-a1dd-479c-98d2-3d92d9fa66f4"
   },
   "outputs": [
    {
     "name": "stdout",
     "output_type": "stream",
     "text": [
      "Requirement already satisfied: pyarrow in /Users/xiaozhongli/opt/anaconda3/lib/python3.8/site-packages (8.0.0)\n",
      "Requirement already satisfied: numpy>=1.16.6 in /Users/xiaozhongli/opt/anaconda3/lib/python3.8/site-packages (from pyarrow) (1.20.1)\n",
      "Note: you may need to restart the kernel to use updated packages.\n"
     ]
    }
   ],
   "source": [
    "pip install --upgrade pyarrow"
   ]
  },
  {
   "cell_type": "code",
   "execution_count": 4,
   "metadata": {
    "colab": {
     "base_uri": "https://localhost:8080/"
    },
    "id": "VWcuW3E_yKtB",
    "outputId": "2268a192-5112-4940-af17-df6f39444751"
   },
   "outputs": [
    {
     "name": "stdout",
     "output_type": "stream",
     "text": [
      "Requirement already satisfied: google-cloud-bigquery in /Users/xiaozhongli/opt/anaconda3/lib/python3.8/site-packages (3.1.0)\n",
      "Requirement already satisfied: python-dateutil<3.0dev,>=2.7.2 in /Users/xiaozhongli/opt/anaconda3/lib/python3.8/site-packages (from google-cloud-bigquery) (2.8.1)\n",
      "Requirement already satisfied: google-cloud-core<3.0.0dev,>=1.4.1 in /Users/xiaozhongli/opt/anaconda3/lib/python3.8/site-packages (from google-cloud-bigquery) (2.2.3)\n",
      "Requirement already satisfied: protobuf>=3.12.0 in /Users/xiaozhongli/opt/anaconda3/lib/python3.8/site-packages (from google-cloud-bigquery) (3.19.4)\n",
      "Requirement already satisfied: grpcio<2.0dev,>=1.38.1 in /Users/xiaozhongli/opt/anaconda3/lib/python3.8/site-packages (from google-cloud-bigquery) (1.45.0)\n",
      "Requirement already satisfied: google-resumable-media<3.0dev,>=0.6.0 in /Users/xiaozhongli/opt/anaconda3/lib/python3.8/site-packages (from google-cloud-bigquery) (2.3.2)\n",
      "Requirement already satisfied: google-api-core[grpc]!=2.0.*,!=2.1.*,!=2.2.*,!=2.3.0,<3.0.0dev,>=1.31.5 in /Users/xiaozhongli/opt/anaconda3/lib/python3.8/site-packages (from google-cloud-bigquery) (2.7.1)\n",
      "Requirement already satisfied: packaging>=14.3 in /Users/xiaozhongli/opt/anaconda3/lib/python3.8/site-packages (from google-cloud-bigquery) (20.9)\n",
      "Requirement already satisfied: pyarrow<9.0dev,>=3.0.0 in /Users/xiaozhongli/opt/anaconda3/lib/python3.8/site-packages (from google-cloud-bigquery) (8.0.0)\n",
      "Requirement already satisfied: google-cloud-bigquery-storage<3.0.0dev,>=2.0.0 in /Users/xiaozhongli/opt/anaconda3/lib/python3.8/site-packages (from google-cloud-bigquery) (2.13.0)\n",
      "Requirement already satisfied: proto-plus>=1.15.0 in /Users/xiaozhongli/opt/anaconda3/lib/python3.8/site-packages (from google-cloud-bigquery) (1.20.3)\n",
      "Requirement already satisfied: requests<3.0.0dev,>=2.18.0 in /Users/xiaozhongli/opt/anaconda3/lib/python3.8/site-packages (from google-cloud-bigquery) (2.25.1)\n",
      "Requirement already satisfied: google-auth<3.0dev,>=1.25.0 in /Users/xiaozhongli/opt/anaconda3/lib/python3.8/site-packages (from google-api-core[grpc]!=2.0.*,!=2.1.*,!=2.2.*,!=2.3.0,<3.0.0dev,>=1.31.5->google-cloud-bigquery) (2.6.2)\n",
      "Requirement already satisfied: googleapis-common-protos<2.0dev,>=1.52.0 in /Users/xiaozhongli/opt/anaconda3/lib/python3.8/site-packages (from google-api-core[grpc]!=2.0.*,!=2.1.*,!=2.2.*,!=2.3.0,<3.0.0dev,>=1.31.5->google-cloud-bigquery) (1.56.0)\n",
      "Requirement already satisfied: grpcio-status<2.0dev,>=1.33.2 in /Users/xiaozhongli/opt/anaconda3/lib/python3.8/site-packages (from google-api-core[grpc]!=2.0.*,!=2.1.*,!=2.2.*,!=2.3.0,<3.0.0dev,>=1.31.5->google-cloud-bigquery) (1.45.0)\n",
      "Requirement already satisfied: rsa<5,>=3.1.4 in /Users/xiaozhongli/opt/anaconda3/lib/python3.8/site-packages (from google-auth<3.0dev,>=1.25.0->google-api-core[grpc]!=2.0.*,!=2.1.*,!=2.2.*,!=2.3.0,<3.0.0dev,>=1.31.5->google-cloud-bigquery) (4.8)\n",
      "Requirement already satisfied: cachetools<6.0,>=2.0.0 in /Users/xiaozhongli/opt/anaconda3/lib/python3.8/site-packages (from google-auth<3.0dev,>=1.25.0->google-api-core[grpc]!=2.0.*,!=2.1.*,!=2.2.*,!=2.3.0,<3.0.0dev,>=1.31.5->google-cloud-bigquery) (5.0.0)\n",
      "Requirement already satisfied: six>=1.9.0 in /Users/xiaozhongli/opt/anaconda3/lib/python3.8/site-packages (from google-auth<3.0dev,>=1.25.0->google-api-core[grpc]!=2.0.*,!=2.1.*,!=2.2.*,!=2.3.0,<3.0.0dev,>=1.31.5->google-cloud-bigquery) (1.15.0)\n",
      "Requirement already satisfied: pyasn1-modules>=0.2.1 in /Users/xiaozhongli/opt/anaconda3/lib/python3.8/site-packages (from google-auth<3.0dev,>=1.25.0->google-api-core[grpc]!=2.0.*,!=2.1.*,!=2.2.*,!=2.3.0,<3.0.0dev,>=1.31.5->google-cloud-bigquery) (0.2.8)\n",
      "Requirement already satisfied: google-crc32c<2.0dev,>=1.0 in /Users/xiaozhongli/opt/anaconda3/lib/python3.8/site-packages (from google-resumable-media<3.0dev,>=0.6.0->google-cloud-bigquery) (1.3.0)\n",
      "Requirement already satisfied: pyparsing>=2.0.2 in /Users/xiaozhongli/opt/anaconda3/lib/python3.8/site-packages (from packaging>=14.3->google-cloud-bigquery) (2.4.7)\n",
      "Requirement already satisfied: numpy>=1.16.6 in /Users/xiaozhongli/opt/anaconda3/lib/python3.8/site-packages (from pyarrow<9.0dev,>=3.0.0->google-cloud-bigquery) (1.20.1)\n",
      "Requirement already satisfied: pyasn1<0.5.0,>=0.4.6 in /Users/xiaozhongli/opt/anaconda3/lib/python3.8/site-packages (from pyasn1-modules>=0.2.1->google-auth<3.0dev,>=1.25.0->google-api-core[grpc]!=2.0.*,!=2.1.*,!=2.2.*,!=2.3.0,<3.0.0dev,>=1.31.5->google-cloud-bigquery) (0.4.8)\n",
      "Requirement already satisfied: urllib3<1.27,>=1.21.1 in /Users/xiaozhongli/opt/anaconda3/lib/python3.8/site-packages (from requests<3.0.0dev,>=2.18.0->google-cloud-bigquery) (1.26.4)\n",
      "Requirement already satisfied: certifi>=2017.4.17 in /Users/xiaozhongli/opt/anaconda3/lib/python3.8/site-packages (from requests<3.0.0dev,>=2.18.0->google-cloud-bigquery) (2020.12.5)\n",
      "Requirement already satisfied: chardet<5,>=3.0.2 in /Users/xiaozhongli/opt/anaconda3/lib/python3.8/site-packages (from requests<3.0.0dev,>=2.18.0->google-cloud-bigquery) (4.0.0)\n",
      "Requirement already satisfied: idna<3,>=2.5 in /Users/xiaozhongli/opt/anaconda3/lib/python3.8/site-packages (from requests<3.0.0dev,>=2.18.0->google-cloud-bigquery) (2.10)\n",
      "Note: you may need to restart the kernel to use updated packages.\n"
     ]
    }
   ],
   "source": [
    "pip install --upgrade google-cloud-bigquery"
   ]
  },
  {
   "cell_type": "markdown",
   "metadata": {
    "id": "Uxi31hiKyKtC"
   },
   "source": [
    "### Step 1: Setup your NYC Open Data variables (ACTION REQUIRED HERE)"
   ]
  },
  {
   "cell_type": "code",
   "execution_count": 5,
   "metadata": {
    "id": "5NhMJ0xyyKtD"
   },
   "outputs": [],
   "source": [
    "# import libraries\n",
    "import pandas as pd\n",
    "import numpy as np\n",
    "from sodapy import Socrata\n",
    "from google.cloud import bigquery\n",
    "from google.oauth2 import service_account"
   ]
  },
  {
   "cell_type": "code",
   "execution_count": 6,
   "metadata": {
    "id": "jb8Qv3IwyKtD"
   },
   "outputs": [],
   "source": [
    "# setup the host name for the API endpoint (the https:// part will be added automatically)\n",
    "data_url = 'data.cityofnewyork.us'"
   ]
  },
  {
   "cell_type": "code",
   "execution_count": 7,
   "metadata": {
    "id": "J3_xiQWeyKtE"
   },
   "outputs": [],
   "source": [
    "# setup the data set at the API endpoint (Motor Vehicle Collisions - Crashes)\n",
    "# For example: https://data.cityofnewyork.us/resource/h9gi-nx95.json\n",
    "# would give us 'h9gi-nx95'\n",
    "data_set = 'h9gi-nx95'"
   ]
  },
  {
   "cell_type": "code",
   "execution_count": 8,
   "metadata": {
    "id": "ZP-vzeR0yKtE"
   },
   "outputs": [],
   "source": [
    "# Setup the App Token\n",
    "app_token = 'cqU7HERSdQikK26O6yJuZLNAY'"
   ]
  },
  {
   "cell_type": "code",
   "execution_count": 9,
   "metadata": {
    "colab": {
     "base_uri": "https://localhost:8080/"
    },
    "id": "pnMED_UayKtF",
    "outputId": "cafe0442-3c8d-473c-b063-c3e4abc601d3"
   },
   "outputs": [
    {
     "name": "stdout",
     "output_type": "stream",
     "text": [
      "nyc open data client name is: <sodapy.socrata.Socrata object at 0x7fc9f17b7f40>\n",
      "nyc open data client data type is: <class 'sodapy.socrata.Socrata'>\n"
     ]
    }
   ],
   "source": [
    "#Setup your Socrata client that connects python to NYC Open Data\n",
    "# create the client that points to the API endpoint\n",
    "nyc_open_data_client = Socrata(data_url, app_token, timeout = 200)\n",
    "print(f\"nyc open data client name is: {nyc_open_data_client}\")\n",
    "print(f\"nyc open data client data type is: {type(nyc_open_data_client)}\")"
   ]
  },
  {
   "cell_type": "markdown",
   "metadata": {
    "id": "36DvO4YQyKtF"
   },
   "source": [
    "### Step 2: Setup your Google BigQuery variables (ACTION REQUIRED HERE)"
   ]
  },
  {
   "cell_type": "markdown",
   "metadata": {
    "id": "DPwaaODkyKtG"
   },
   "source": [
    "If you did not create a key path in class on 3/30/22 (which created a json file on your computer), you must create one to continue:\n",
    "1. Open BigQuery\n",
    "2. On the top-left, click on the Navigation Menu\n",
    "3. In the Navigation Menu, go to \"IAM & Admin\" -> \"Sercive Accounts\"\n",
    "4. On the top of the page, click on \"Create Service Account\"\n",
    "5. Account name: cis9440-spring2022\n",
    "6. Click create and continue\n",
    "7. Set Role to Owner\n",
    "8. Click Continue\n",
    "9. Click Done\n",
    "10. In the new row for your Service Account, click on the 3 dots in the \"Action\" column. Select \"Manage Keys\"\n",
    "11. Click \"Add Key\", then \"Create New Key\". Select the \"JSON\" radio button and click \"Create\"\n",
    "12. In the next cell, set key_path to the exact file path of your new JSON file. For example, it will look like r'C:\\Users\\Downloads\\cis9440-324315-70048a5e1138.json'"
   ]
  },
  {
   "cell_type": "code",
   "execution_count": 10,
   "metadata": {
    "id": "F0GUydg4yKtG"
   },
   "outputs": [],
   "source": [
    "# CHANGE THIS TO YOUR FILE PATH\n",
    "key_path = r'/Users/xiaozhongli/Downloads/CIS 9440/cis9440-final-project-39c452b60b6b.json'\n",
    "#key_path = '/content/project1-342802-64b522eec5e5.json'\n"
   ]
  },
  {
   "cell_type": "code",
   "execution_count": 11,
   "metadata": {
    "colab": {
     "base_uri": "https://localhost:8080/"
    },
    "id": "JrFWnpIdyKtG",
    "outputId": "a4d4c7f3-10cd-4dd4-8710-9441e2352a41"
   },
   "outputs": [
    {
     "name": "stdout",
     "output_type": "stream",
     "text": [
      "bigquery client name is: <google.cloud.bigquery.client.Client object at 0x7fc9f17cc3a0>\n",
      "bigquery client data type is: <class 'google.cloud.bigquery.client.Client'>\n"
     ]
    }
   ],
   "source": [
    "# run this cell without changing anything to setup your credentials\n",
    "credentials = service_account.Credentials.from_service_account_file(key_path,\n",
    "                                                                    scopes=[\"https://www.googleapis.com/auth/cloud-platform\"],)\n",
    "bigquery_client = bigquery.Client(credentials = credentials,\n",
    "                                 project = credentials.project_id)\n",
    "\n",
    "print(f\"bigquery client name is: {bigquery_client}\")\n",
    "print(f\"bigquery client data type is: {type(bigquery_client)}\")"
   ]
  },
  {
   "cell_type": "markdown",
   "metadata": {
    "id": "fs1XSPVsyKtH"
   },
   "source": [
    "Now, you need to create your dataset id:\n",
    "1. Go to bigquery\n",
    "2. Inside the \"Explorer\" window, click on the 3 dots to the right of your cis9440 project called \"View Actions\"\n",
    "3. Select \"Create dataset\"\n",
    "4. Leave the Project ID as it is, name your Dataset ID etl_dataset\n",
    "5. Expand your cis9440 project with the triangle on its left-hand side so you can see your new etl_dataset dataset\n",
    "6. On the right of your etl_dataset, click the 3 dots for \"View Actions\" -> \"Open\"\n",
    "7. You should now see the \"Dataset info\". Copy the entire \"Dataset ID\" and paste it in the variable below"
   ]
  },
  {
   "cell_type": "code",
   "execution_count": 12,
   "metadata": {
    "colab": {
     "base_uri": "https://localhost:8080/"
    },
    "id": "d8o30rrnyKtH",
    "outputId": "70df33de-4bcf-4f4c-bf6d-aeac2cc0bcde"
   },
   "outputs": [
    {
     "name": "stdout",
     "output_type": "stream",
     "text": [
      "your dataset_id is: cis9440-final-project.etl_dataset\n"
     ]
    }
   ],
   "source": [
    "dataset_id = 'cis9440-final-project.etl_dataset'   # PASTE THIS DATASET ID FROM ABOVE STEPS\n",
    "\n",
    "dataset_id = dataset_id.replace(':', '.')\n",
    "print(f\"your dataset_id is: {dataset_id}\")"
   ]
  },
  {
   "cell_type": "markdown",
   "metadata": {
    "id": "6xu2jnOWyKtH"
   },
   "source": [
    "### Step 3: Extract data"
   ]
  },
  {
   "cell_type": "markdown",
   "metadata": {
    "id": "VxJeMMm8yKtH"
   },
   "source": [
    "1. connect to NYC Open Data with API Key\n",
    "2. pull specific dataset as a pandas dataframe\n",
    "3. Look at shape of extracted data"
   ]
  },
  {
   "cell_type": "markdown",
   "metadata": {
    "id": "5aQPglBpyKtI"
   },
   "source": [
    "#### sodapy client.get parameters\n",
    "1. select\n",
    "2. where\n",
    "3. order\n",
    "4. limit\n",
    "5. group"
   ]
  },
  {
   "cell_type": "code",
   "execution_count": 13,
   "metadata": {
    "colab": {
     "base_uri": "https://localhost:8080/"
    },
    "id": "1dxAXz_AyKtI",
    "outputId": "92a9dba0-2f3d-4927-9723-e8d69d620f89"
   },
   "outputs": [
    {
     "name": "stdout",
     "output_type": "stream",
     "text": [
      "total records in h9gi-nx95: [{'COUNT': '1889526'}]\n"
     ]
    }
   ],
   "source": [
    "# Get the total number of records in our the entire data set\n",
    "total_record_count = nyc_open_data_client.get(data_set, select = \"COUNT(*)\")\n",
    "print(f\"total records in {data_set}: {total_record_count}\")"
   ]
  },
  {
   "cell_type": "code",
   "execution_count": 14,
   "metadata": {
    "colab": {
     "base_uri": "https://localhost:8080/"
    },
    "id": "wZw5d0LKyKtI",
    "outputId": "bec9d9d3-7a95-44e3-e04c-bc9dd9956da9"
   },
   "outputs": [
    {
     "name": "stdout",
     "output_type": "stream",
     "text": [
      "target records in h9gi-nx95: [{'COUNT': '144729'}]\n"
     ]
    }
   ],
   "source": [
    "# Get the total number of records in our target data set\n",
    "target_record_count = nyc_open_data_client.get(data_set,\n",
    "                                               where = \"crash_date>='2021-01-01'\",\n",
    "                                               select = \"COUNT(*)\")\n",
    "print(f\"target records in {data_set}: {target_record_count}\")"
   ]
  },
  {
   "cell_type": "code",
   "execution_count": 15,
   "metadata": {
    "colab": {
     "base_uri": "https://localhost:8080/"
    },
    "id": "d-z0xVbFyKtI",
    "outputId": "d84df784-5569-45b7-f711-394fdc4fa502"
   },
   "outputs": [
    {
     "name": "stdout",
     "output_type": "stream",
     "text": [
      "function took 61.1 seconds\n",
      "the shape of your dataframe is: (144729, 29)\n"
     ]
    }
   ],
   "source": [
    "# Now, loop through target data set to pull all rows in chunks (we cannot pull all rows at once)\n",
    "# AGAIN, UPDATE WHERE FILTER INSIDE BELOW FUNCTION\n",
    "\n",
    "def pull_data_in_chunks(target_record_count):\n",
    "    \n",
    "    # measure time this function takes\n",
    "    import time\n",
    "    start_time = time.time()\n",
    "\n",
    "    start = 0             # start at 0\n",
    "    chunk_size = 2000     # fetch 2000 rows at a time\n",
    "    results = []          # empty out our result list\n",
    "    record_count = target_record_count\n",
    "    \n",
    "\n",
    "    while True:\n",
    "\n",
    "        # fetch the set of records starting at 'start'\n",
    "        results.extend(nyc_open_data_client.get(data_set,\n",
    "                                                where = \"crash_date>='2021-01-01'\",\n",
    "                                                offset = start,\n",
    "                                                limit = chunk_size))\n",
    "\n",
    "        # update the starting record number\n",
    "        start = start + chunk_size\n",
    "\n",
    "        # if we have fetched all of the records (we have reached record_count), exit loop\n",
    "\n",
    "        if (start > int(record_count[0][\"COUNT\"])):\n",
    "            break\n",
    "\n",
    "    # convert the list into a pandas data frame\n",
    "    data = pd.DataFrame.from_records(results)\n",
    "\n",
    "    end_time = time.time()\n",
    "    print(f\"function took {round(end_time - start_time, 1)} seconds\")\n",
    "\n",
    "    print(f\"the shape of your dataframe is: {data.shape}\")\n",
    "    return data\n",
    "\n",
    "data = pull_data_in_chunks(target_record_count)"
   ]
  },
  {
   "cell_type": "code",
   "execution_count": 16,
   "metadata": {},
   "outputs": [
    {
     "data": {
      "text/plain": [
       "Index(['crash_date', 'crash_time', 'latitude', 'longitude', 'location',\n",
       "       'on_street_name', 'number_of_persons_injured',\n",
       "       'number_of_persons_killed', 'number_of_pedestrians_injured',\n",
       "       'number_of_pedestrians_killed', 'number_of_cyclist_injured',\n",
       "       'number_of_cyclist_killed', 'number_of_motorist_injured',\n",
       "       'number_of_motorist_killed', 'contributing_factor_vehicle_1',\n",
       "       'contributing_factor_vehicle_2', 'collision_id', 'vehicle_type_code1',\n",
       "       'vehicle_type_code2', 'borough', 'zip_code', 'off_street_name',\n",
       "       'cross_street_name', 'contributing_factor_vehicle_3',\n",
       "       'vehicle_type_code_3', 'contributing_factor_vehicle_4',\n",
       "       'contributing_factor_vehicle_5', 'vehicle_type_code_4',\n",
       "       'vehicle_type_code_5'],\n",
       "      dtype='object')"
      ]
     },
     "execution_count": 16,
     "metadata": {},
     "output_type": "execute_result"
    }
   ],
   "source": [
    "data.columns"
   ]
  },
  {
   "cell_type": "markdown",
   "metadata": {},
   "source": [
    "### Step 4: Concatenate multiple columns into one single column"
   ]
  },
  {
   "cell_type": "code",
   "execution_count": 17,
   "metadata": {},
   "outputs": [],
   "source": [
    "data['contributing_factors'] = data[['contributing_factor_vehicle_1', 'contributing_factor_vehicle_2', 'contributing_factor_vehicle_3', 'contributing_factor_vehicle_4', 'contributing_factor_vehicle_5']].apply(lambda x: ', '.join(x.dropna()),axis=1)\n"
   ]
  },
  {
   "cell_type": "code",
   "execution_count": 18,
   "metadata": {},
   "outputs": [
    {
     "data": {
      "text/plain": [
       "0                             Unspecified, Unspecified\n",
       "1                                Following Too Closely\n",
       "2                                          Fell Asleep\n",
       "3                       Driver Inattention/Distraction\n",
       "4                            Unsafe Speed, Unspecified\n",
       "5                             Unspecified, Unspecified\n",
       "6    Pedestrian/Bicyclist/Other Pedestrian Error/Co...\n",
       "7                     Other Vehicular, Other Vehicular\n",
       "8                     Passing Too Closely, Unspecified\n",
       "9                             Unspecified, Unspecified\n",
       "Name: contributing_factors, dtype: object"
      ]
     },
     "execution_count": 18,
     "metadata": {},
     "output_type": "execute_result"
    }
   ],
   "source": [
    "data[\"contributing_factors\"][0:10]"
   ]
  },
  {
   "cell_type": "code",
   "execution_count": 19,
   "metadata": {},
   "outputs": [],
   "source": [
    "data['vehicle_types'] = data[['vehicle_type_code1', 'vehicle_type_code2', 'vehicle_type_code_3', 'vehicle_type_code_4', 'vehicle_type_code_5']].apply(lambda x: ', '.join(x.dropna()),axis=1)\n"
   ]
  },
  {
   "cell_type": "code",
   "execution_count": 20,
   "metadata": {},
   "outputs": [
    {
     "data": {
      "text/plain": [
       "0                                  Sedan, Sedan\n",
       "1                                         Sedan\n",
       "2                                         Sedan\n",
       "3                                         Sedan\n",
       "4                                  Sedan, Sedan\n",
       "5     Station Wagon/Sport Utility Vehicle, Taxi\n",
       "6                                         Sedan\n",
       "7    Sedan, Station Wagon/Sport Utility Vehicle\n",
       "8                                         Sedan\n",
       "9                                  Sedan, Sedan\n",
       "Name: vehicle_types, dtype: object"
      ]
     },
     "execution_count": 20,
     "metadata": {},
     "output_type": "execute_result"
    }
   ],
   "source": [
    "data[\"vehicle_types\"][0:10]"
   ]
  },
  {
   "cell_type": "markdown",
   "metadata": {
    "id": "WX4zEKESyKtJ"
   },
   "source": [
    "### Step 5: Data Profiling"
   ]
  },
  {
   "cell_type": "markdown",
   "metadata": {
    "id": "LIEtt3BSyKtJ"
   },
   "source": [
    "1. Distinct values per column\n",
    "2. Null values per column\n",
    "3. Summary statistics per numeric column"
   ]
  },
  {
   "cell_type": "code",
   "execution_count": 21,
   "metadata": {
    "colab": {
     "base_uri": "https://localhost:8080/"
    },
    "id": "FBfS2ADnyKtJ",
    "outputId": "4a12eb8f-e91e-4c7b-ff4f-542b7dda5a17"
   },
   "outputs": [
    {
     "data": {
      "text/plain": [
       "Index(['crash_date', 'crash_time', 'latitude', 'longitude', 'location',\n",
       "       'on_street_name', 'number_of_persons_injured',\n",
       "       'number_of_persons_killed', 'number_of_pedestrians_injured',\n",
       "       'number_of_pedestrians_killed', 'number_of_cyclist_injured',\n",
       "       'number_of_cyclist_killed', 'number_of_motorist_injured',\n",
       "       'number_of_motorist_killed', 'contributing_factor_vehicle_1',\n",
       "       'contributing_factor_vehicle_2', 'collision_id', 'vehicle_type_code1',\n",
       "       'vehicle_type_code2', 'borough', 'zip_code', 'off_street_name',\n",
       "       'cross_street_name', 'contributing_factor_vehicle_3',\n",
       "       'vehicle_type_code_3', 'contributing_factor_vehicle_4',\n",
       "       'contributing_factor_vehicle_5', 'vehicle_type_code_4',\n",
       "       'vehicle_type_code_5', 'contributing_factors', 'vehicle_types'],\n",
       "      dtype='object')"
      ]
     },
     "execution_count": 21,
     "metadata": {},
     "output_type": "execute_result"
    }
   ],
   "source": [
    "# what are the columns in our dataframe?\n",
    "data.columns"
   ]
  },
  {
   "cell_type": "code",
   "execution_count": 22,
   "metadata": {
    "colab": {
     "base_uri": "https://localhost:8080/"
    },
    "id": "-GvoUgp_yKtJ",
    "outputId": "a1d1f57e-1dbb-4982-d775-e726540617be"
   },
   "outputs": [
    {
     "name": "stdout",
     "output_type": "stream",
     "text": [
      "unable to read column: location, you may want to drop this column\n"
     ]
    }
   ],
   "source": [
    "# create and run a function to ceate data profiling dataframe\n",
    "\n",
    "def create_data_profiling_df(data):\n",
    "    \n",
    "    # create an empty dataframe to gather information about each column\n",
    "    data_profiling_df = pd.DataFrame(columns = [\"column_name\",\n",
    "                                                \"column_type\",\n",
    "                                                \"unique_values\",\n",
    "                                                \"duplicate_values\",\n",
    "                                                \"null_values\",\n",
    "                                                \"non_null_values\",\n",
    "                                                \"percent_null\"])\n",
    "\n",
    "    # loop through each column to add rows to the data_profiling_df dataframe\n",
    "    for column in data.columns:\n",
    "\n",
    "        info_dict = {}\n",
    "\n",
    "        try:\n",
    "            info_dict[\"column_name\"] = column\n",
    "            info_dict[\"column_type\"] = data[column].dtypes\n",
    "            info_dict[\"unique_values\"] = len(data[column].unique())\n",
    "            info_dict[\"duplicate_values\"] = (data[column].shape[0] - data[column].isna().sum()) - len(data[column].unique())\n",
    "            info_dict[\"null_values\"] = data[column].isna().sum()\n",
    "            info_dict[\"non_null_values\"] = data[column].shape[0] - data[column].isna().sum()\n",
    "            info_dict[\"percent_null\"] = round((data[column].isna().sum()) / (data[column].shape[0]), 3)\n",
    "\n",
    "        except:\n",
    "            print(f\"unable to read column: {column}, you may want to drop this column\")\n",
    "\n",
    "        data_profiling_df = data_profiling_df.append(info_dict, ignore_index=True)\n",
    "\n",
    "    data_profiling_df.sort_values(by = ['unique_values', \"non_null_values\"],\n",
    "                                  ascending = [False, False],\n",
    "                                  inplace=True)\n",
    "    \n",
    "    return data_profiling_df\n",
    "\n",
    "data_profiling_df = create_data_profiling_df(data)"
   ]
  },
  {
   "cell_type": "code",
   "execution_count": 23,
   "metadata": {
    "id": "bPZM_JuIyKtJ"
   },
   "outputs": [],
   "source": [
    "# ACTION REQUIRED\n",
    "# If any of the above columns were unable to be read by your function, you may want to drop them\n",
    "# To drop a column, update the column name in the line below and run this cell\n",
    "data.drop([\"location\"], axis = 1, inplace = True)"
   ]
  },
  {
   "cell_type": "code",
   "execution_count": 24,
   "metadata": {
    "colab": {
     "base_uri": "https://localhost:8080/",
     "height": 0
    },
    "id": "SqyCuHepyKtK",
    "outputId": "28039c86-d478-44b6-cfb3-39179a4913fe"
   },
   "outputs": [
    {
     "data": {
      "text/html": [
       "<div>\n",
       "<style scoped>\n",
       "    .dataframe tbody tr th:only-of-type {\n",
       "        vertical-align: middle;\n",
       "    }\n",
       "\n",
       "    .dataframe tbody tr th {\n",
       "        vertical-align: top;\n",
       "    }\n",
       "\n",
       "    .dataframe thead th {\n",
       "        text-align: right;\n",
       "    }\n",
       "</style>\n",
       "<table border=\"1\" class=\"dataframe\">\n",
       "  <thead>\n",
       "    <tr style=\"text-align: right;\">\n",
       "      <th></th>\n",
       "      <th>column_name</th>\n",
       "      <th>column_type</th>\n",
       "      <th>unique_values</th>\n",
       "      <th>duplicate_values</th>\n",
       "      <th>null_values</th>\n",
       "      <th>non_null_values</th>\n",
       "      <th>percent_null</th>\n",
       "    </tr>\n",
       "  </thead>\n",
       "  <tbody>\n",
       "    <tr>\n",
       "      <th>16</th>\n",
       "      <td>collision_id</td>\n",
       "      <td>object</td>\n",
       "      <td>144711</td>\n",
       "      <td>18</td>\n",
       "      <td>0</td>\n",
       "      <td>144729</td>\n",
       "      <td>0.000</td>\n",
       "    </tr>\n",
       "    <tr>\n",
       "      <th>2</th>\n",
       "      <td>latitude</td>\n",
       "      <td>object</td>\n",
       "      <td>56595</td>\n",
       "      <td>76394</td>\n",
       "      <td>11740</td>\n",
       "      <td>132989</td>\n",
       "      <td>0.081</td>\n",
       "    </tr>\n",
       "    <tr>\n",
       "      <th>3</th>\n",
       "      <td>longitude</td>\n",
       "      <td>object</td>\n",
       "      <td>46070</td>\n",
       "      <td>86919</td>\n",
       "      <td>11740</td>\n",
       "      <td>132989</td>\n",
       "      <td>0.081</td>\n",
       "    </tr>\n",
       "    <tr>\n",
       "      <th>22</th>\n",
       "      <td>cross_street_name</td>\n",
       "      <td>object</td>\n",
       "      <td>34531</td>\n",
       "      <td>4620</td>\n",
       "      <td>105578</td>\n",
       "      <td>39151</td>\n",
       "      <td>0.729</td>\n",
       "    </tr>\n",
       "    <tr>\n",
       "      <th>5</th>\n",
       "      <td>on_street_name</td>\n",
       "      <td>object</td>\n",
       "      <td>7326</td>\n",
       "      <td>98250</td>\n",
       "      <td>39153</td>\n",
       "      <td>105576</td>\n",
       "      <td>0.271</td>\n",
       "    </tr>\n",
       "    <tr>\n",
       "      <th>21</th>\n",
       "      <td>off_street_name</td>\n",
       "      <td>object</td>\n",
       "      <td>5554</td>\n",
       "      <td>61398</td>\n",
       "      <td>77777</td>\n",
       "      <td>66952</td>\n",
       "      <td>0.537</td>\n",
       "    </tr>\n",
       "    <tr>\n",
       "      <th>30</th>\n",
       "      <td>vehicle_types</td>\n",
       "      <td>object</td>\n",
       "      <td>3198</td>\n",
       "      <td>141531</td>\n",
       "      <td>0</td>\n",
       "      <td>144729</td>\n",
       "      <td>0.000</td>\n",
       "    </tr>\n",
       "    <tr>\n",
       "      <th>29</th>\n",
       "      <td>contributing_factors</td>\n",
       "      <td>object</td>\n",
       "      <td>1595</td>\n",
       "      <td>143134</td>\n",
       "      <td>0</td>\n",
       "      <td>144729</td>\n",
       "      <td>0.000</td>\n",
       "    </tr>\n",
       "    <tr>\n",
       "      <th>1</th>\n",
       "      <td>crash_time</td>\n",
       "      <td>object</td>\n",
       "      <td>1440</td>\n",
       "      <td>143289</td>\n",
       "      <td>0</td>\n",
       "      <td>144729</td>\n",
       "      <td>0.000</td>\n",
       "    </tr>\n",
       "    <tr>\n",
       "      <th>18</th>\n",
       "      <td>vehicle_type_code2</td>\n",
       "      <td>object</td>\n",
       "      <td>497</td>\n",
       "      <td>95380</td>\n",
       "      <td>48852</td>\n",
       "      <td>95877</td>\n",
       "      <td>0.338</td>\n",
       "    </tr>\n",
       "    <tr>\n",
       "      <th>0</th>\n",
       "      <td>crash_date</td>\n",
       "      <td>object</td>\n",
       "      <td>492</td>\n",
       "      <td>144237</td>\n",
       "      <td>0</td>\n",
       "      <td>144729</td>\n",
       "      <td>0.000</td>\n",
       "    </tr>\n",
       "    <tr>\n",
       "      <th>17</th>\n",
       "      <td>vehicle_type_code1</td>\n",
       "      <td>object</td>\n",
       "      <td>417</td>\n",
       "      <td>142560</td>\n",
       "      <td>1752</td>\n",
       "      <td>142977</td>\n",
       "      <td>0.012</td>\n",
       "    </tr>\n",
       "    <tr>\n",
       "      <th>20</th>\n",
       "      <td>zip_code</td>\n",
       "      <td>object</td>\n",
       "      <td>211</td>\n",
       "      <td>94578</td>\n",
       "      <td>49940</td>\n",
       "      <td>94789</td>\n",
       "      <td>0.345</td>\n",
       "    </tr>\n",
       "    <tr>\n",
       "      <th>24</th>\n",
       "      <td>vehicle_type_code_3</td>\n",
       "      <td>object</td>\n",
       "      <td>87</td>\n",
       "      <td>13648</td>\n",
       "      <td>130994</td>\n",
       "      <td>13735</td>\n",
       "      <td>0.905</td>\n",
       "    </tr>\n",
       "    <tr>\n",
       "      <th>14</th>\n",
       "      <td>contributing_factor_vehicle_1</td>\n",
       "      <td>object</td>\n",
       "      <td>56</td>\n",
       "      <td>143936</td>\n",
       "      <td>737</td>\n",
       "      <td>143992</td>\n",
       "      <td>0.005</td>\n",
       "    </tr>\n",
       "    <tr>\n",
       "      <th>15</th>\n",
       "      <td>contributing_factor_vehicle_2</td>\n",
       "      <td>object</td>\n",
       "      <td>50</td>\n",
       "      <td>111322</td>\n",
       "      <td>33357</td>\n",
       "      <td>111372</td>\n",
       "      <td>0.230</td>\n",
       "    </tr>\n",
       "    <tr>\n",
       "      <th>27</th>\n",
       "      <td>vehicle_type_code_4</td>\n",
       "      <td>object</td>\n",
       "      <td>44</td>\n",
       "      <td>3766</td>\n",
       "      <td>140919</td>\n",
       "      <td>3810</td>\n",
       "      <td>0.974</td>\n",
       "    </tr>\n",
       "    <tr>\n",
       "      <th>23</th>\n",
       "      <td>contributing_factor_vehicle_3</td>\n",
       "      <td>object</td>\n",
       "      <td>30</td>\n",
       "      <td>14750</td>\n",
       "      <td>129949</td>\n",
       "      <td>14780</td>\n",
       "      <td>0.898</td>\n",
       "    </tr>\n",
       "    <tr>\n",
       "      <th>28</th>\n",
       "      <td>vehicle_type_code_5</td>\n",
       "      <td>object</td>\n",
       "      <td>22</td>\n",
       "      <td>1169</td>\n",
       "      <td>143538</td>\n",
       "      <td>1191</td>\n",
       "      <td>0.992</td>\n",
       "    </tr>\n",
       "    <tr>\n",
       "      <th>6</th>\n",
       "      <td>number_of_persons_injured</td>\n",
       "      <td>object</td>\n",
       "      <td>20</td>\n",
       "      <td>144708</td>\n",
       "      <td>1</td>\n",
       "      <td>144728</td>\n",
       "      <td>0.000</td>\n",
       "    </tr>\n",
       "    <tr>\n",
       "      <th>25</th>\n",
       "      <td>contributing_factor_vehicle_4</td>\n",
       "      <td>object</td>\n",
       "      <td>20</td>\n",
       "      <td>4001</td>\n",
       "      <td>140708</td>\n",
       "      <td>4021</td>\n",
       "      <td>0.972</td>\n",
       "    </tr>\n",
       "    <tr>\n",
       "      <th>12</th>\n",
       "      <td>number_of_motorist_injured</td>\n",
       "      <td>object</td>\n",
       "      <td>18</td>\n",
       "      <td>144711</td>\n",
       "      <td>0</td>\n",
       "      <td>144729</td>\n",
       "      <td>0.000</td>\n",
       "    </tr>\n",
       "    <tr>\n",
       "      <th>26</th>\n",
       "      <td>contributing_factor_vehicle_5</td>\n",
       "      <td>object</td>\n",
       "      <td>13</td>\n",
       "      <td>1218</td>\n",
       "      <td>143498</td>\n",
       "      <td>1231</td>\n",
       "      <td>0.991</td>\n",
       "    </tr>\n",
       "    <tr>\n",
       "      <th>8</th>\n",
       "      <td>number_of_pedestrians_injured</td>\n",
       "      <td>object</td>\n",
       "      <td>7</td>\n",
       "      <td>144722</td>\n",
       "      <td>0</td>\n",
       "      <td>144729</td>\n",
       "      <td>0.000</td>\n",
       "    </tr>\n",
       "    <tr>\n",
       "      <th>19</th>\n",
       "      <td>borough</td>\n",
       "      <td>object</td>\n",
       "      <td>6</td>\n",
       "      <td>94799</td>\n",
       "      <td>49924</td>\n",
       "      <td>94805</td>\n",
       "      <td>0.345</td>\n",
       "    </tr>\n",
       "    <tr>\n",
       "      <th>7</th>\n",
       "      <td>number_of_persons_killed</td>\n",
       "      <td>object</td>\n",
       "      <td>4</td>\n",
       "      <td>144725</td>\n",
       "      <td>0</td>\n",
       "      <td>144729</td>\n",
       "      <td>0.000</td>\n",
       "    </tr>\n",
       "    <tr>\n",
       "      <th>10</th>\n",
       "      <td>number_of_cyclist_injured</td>\n",
       "      <td>object</td>\n",
       "      <td>4</td>\n",
       "      <td>144725</td>\n",
       "      <td>0</td>\n",
       "      <td>144729</td>\n",
       "      <td>0.000</td>\n",
       "    </tr>\n",
       "    <tr>\n",
       "      <th>13</th>\n",
       "      <td>number_of_motorist_killed</td>\n",
       "      <td>object</td>\n",
       "      <td>4</td>\n",
       "      <td>144725</td>\n",
       "      <td>0</td>\n",
       "      <td>144729</td>\n",
       "      <td>0.000</td>\n",
       "    </tr>\n",
       "    <tr>\n",
       "      <th>9</th>\n",
       "      <td>number_of_pedestrians_killed</td>\n",
       "      <td>object</td>\n",
       "      <td>3</td>\n",
       "      <td>144726</td>\n",
       "      <td>0</td>\n",
       "      <td>144729</td>\n",
       "      <td>0.000</td>\n",
       "    </tr>\n",
       "    <tr>\n",
       "      <th>11</th>\n",
       "      <td>number_of_cyclist_killed</td>\n",
       "      <td>object</td>\n",
       "      <td>2</td>\n",
       "      <td>144727</td>\n",
       "      <td>0</td>\n",
       "      <td>144729</td>\n",
       "      <td>0.000</td>\n",
       "    </tr>\n",
       "    <tr>\n",
       "      <th>4</th>\n",
       "      <td>location</td>\n",
       "      <td>object</td>\n",
       "      <td>NaN</td>\n",
       "      <td>NaN</td>\n",
       "      <td>NaN</td>\n",
       "      <td>NaN</td>\n",
       "      <td>NaN</td>\n",
       "    </tr>\n",
       "  </tbody>\n",
       "</table>\n",
       "</div>"
      ],
      "text/plain": [
       "                      column_name column_type unique_values duplicate_values  \\\n",
       "16                   collision_id      object        144711               18   \n",
       "2                        latitude      object         56595            76394   \n",
       "3                       longitude      object         46070            86919   \n",
       "22              cross_street_name      object         34531             4620   \n",
       "5                  on_street_name      object          7326            98250   \n",
       "21                off_street_name      object          5554            61398   \n",
       "30                  vehicle_types      object          3198           141531   \n",
       "29           contributing_factors      object          1595           143134   \n",
       "1                      crash_time      object          1440           143289   \n",
       "18             vehicle_type_code2      object           497            95380   \n",
       "0                      crash_date      object           492           144237   \n",
       "17             vehicle_type_code1      object           417           142560   \n",
       "20                       zip_code      object           211            94578   \n",
       "24            vehicle_type_code_3      object            87            13648   \n",
       "14  contributing_factor_vehicle_1      object            56           143936   \n",
       "15  contributing_factor_vehicle_2      object            50           111322   \n",
       "27            vehicle_type_code_4      object            44             3766   \n",
       "23  contributing_factor_vehicle_3      object            30            14750   \n",
       "28            vehicle_type_code_5      object            22             1169   \n",
       "6       number_of_persons_injured      object            20           144708   \n",
       "25  contributing_factor_vehicle_4      object            20             4001   \n",
       "12     number_of_motorist_injured      object            18           144711   \n",
       "26  contributing_factor_vehicle_5      object            13             1218   \n",
       "8   number_of_pedestrians_injured      object             7           144722   \n",
       "19                        borough      object             6            94799   \n",
       "7        number_of_persons_killed      object             4           144725   \n",
       "10      number_of_cyclist_injured      object             4           144725   \n",
       "13      number_of_motorist_killed      object             4           144725   \n",
       "9    number_of_pedestrians_killed      object             3           144726   \n",
       "11       number_of_cyclist_killed      object             2           144727   \n",
       "4                        location      object           NaN              NaN   \n",
       "\n",
       "   null_values non_null_values  percent_null  \n",
       "16           0          144729         0.000  \n",
       "2        11740          132989         0.081  \n",
       "3        11740          132989         0.081  \n",
       "22      105578           39151         0.729  \n",
       "5        39153          105576         0.271  \n",
       "21       77777           66952         0.537  \n",
       "30           0          144729         0.000  \n",
       "29           0          144729         0.000  \n",
       "1            0          144729         0.000  \n",
       "18       48852           95877         0.338  \n",
       "0            0          144729         0.000  \n",
       "17        1752          142977         0.012  \n",
       "20       49940           94789         0.345  \n",
       "24      130994           13735         0.905  \n",
       "14         737          143992         0.005  \n",
       "15       33357          111372         0.230  \n",
       "27      140919            3810         0.974  \n",
       "23      129949           14780         0.898  \n",
       "28      143538            1191         0.992  \n",
       "6            1          144728         0.000  \n",
       "25      140708            4021         0.972  \n",
       "12           0          144729         0.000  \n",
       "26      143498            1231         0.991  \n",
       "8            0          144729         0.000  \n",
       "19       49924           94805         0.345  \n",
       "7            0          144729         0.000  \n",
       "10           0          144729         0.000  \n",
       "13           0          144729         0.000  \n",
       "9            0          144729         0.000  \n",
       "11           0          144729         0.000  \n",
       "4          NaN             NaN           NaN  "
      ]
     },
     "execution_count": 24,
     "metadata": {},
     "output_type": "execute_result"
    }
   ],
   "source": [
    "# view your data profiling dataframe\n",
    "data_profiling_df"
   ]
  },
  {
   "cell_type": "markdown",
   "metadata": {
    "id": "6337CEhJyKtK"
   },
   "source": [
    "### Step 6: Data Cleansing"
   ]
  },
  {
   "cell_type": "markdown",
   "metadata": {
    "id": "PEeTDSTRyKtK"
   },
   "source": [
    "1. drop unneeded columns\n",
    "2. drop duplicate rows\n",
    "3. check for outliers"
   ]
  },
  {
   "cell_type": "code",
   "execution_count": 25,
   "metadata": {
    "colab": {
     "base_uri": "https://localhost:8080/"
    },
    "id": "yzo0rZzWyKtK",
    "outputId": "1e24fca6-9808-477e-ade9-7beea2738ee3"
   },
   "outputs": [
    {
     "name": "stdout",
     "output_type": "stream",
     "text": [
      "<class 'pandas.core.frame.DataFrame'>\n",
      "RangeIndex: 144729 entries, 0 to 144728\n",
      "Data columns (total 30 columns):\n",
      " #   Column                         Non-Null Count   Dtype \n",
      "---  ------                         --------------   ----- \n",
      " 0   crash_date                     144729 non-null  object\n",
      " 1   crash_time                     144729 non-null  object\n",
      " 2   latitude                       132989 non-null  object\n",
      " 3   longitude                      132989 non-null  object\n",
      " 4   on_street_name                 105576 non-null  object\n",
      " 5   number_of_persons_injured      144728 non-null  object\n",
      " 6   number_of_persons_killed       144729 non-null  object\n",
      " 7   number_of_pedestrians_injured  144729 non-null  object\n",
      " 8   number_of_pedestrians_killed   144729 non-null  object\n",
      " 9   number_of_cyclist_injured      144729 non-null  object\n",
      " 10  number_of_cyclist_killed       144729 non-null  object\n",
      " 11  number_of_motorist_injured     144729 non-null  object\n",
      " 12  number_of_motorist_killed      144729 non-null  object\n",
      " 13  contributing_factor_vehicle_1  143992 non-null  object\n",
      " 14  contributing_factor_vehicle_2  111372 non-null  object\n",
      " 15  collision_id                   144729 non-null  object\n",
      " 16  vehicle_type_code1             142977 non-null  object\n",
      " 17  vehicle_type_code2             95877 non-null   object\n",
      " 18  borough                        94805 non-null   object\n",
      " 19  zip_code                       94789 non-null   object\n",
      " 20  off_street_name                66952 non-null   object\n",
      " 21  cross_street_name              39151 non-null   object\n",
      " 22  contributing_factor_vehicle_3  14780 non-null   object\n",
      " 23  vehicle_type_code_3            13735 non-null   object\n",
      " 24  contributing_factor_vehicle_4  4021 non-null    object\n",
      " 25  contributing_factor_vehicle_5  1231 non-null    object\n",
      " 26  vehicle_type_code_4            3810 non-null    object\n",
      " 27  vehicle_type_code_5            1191 non-null    object\n",
      " 28  contributing_factors           144729 non-null  object\n",
      " 29  vehicle_types                  144729 non-null  object\n",
      "dtypes: object(30)\n",
      "memory usage: 33.1+ MB\n"
     ]
    }
   ],
   "source": [
    "# Run this to look at a list of your columns\n",
    "data.info()"
   ]
  },
  {
   "cell_type": "code",
   "execution_count": 26,
   "metadata": {
    "colab": {
     "base_uri": "https://localhost:8080/"
    },
    "id": "uPoIQL1myKtK",
    "outputId": "921bf9b0-9c38-4587-d3a6-4ad1f2c3e477"
   },
   "outputs": [
    {
     "name": "stdout",
     "output_type": "stream",
     "text": [
      "columns left in dataframe: Index(['crash_date', 'latitude', 'longitude', 'number_of_persons_injured',\n",
      "       'number_of_persons_killed', 'number_of_pedestrians_injured',\n",
      "       'number_of_pedestrians_killed', 'number_of_cyclist_injured',\n",
      "       'number_of_cyclist_killed', 'number_of_motorist_injured',\n",
      "       'number_of_motorist_killed', 'contributing_factor_vehicle_1',\n",
      "       'contributing_factor_vehicle_2', 'collision_id', 'vehicle_type_code1',\n",
      "       'vehicle_type_code2', 'borough', 'zip_code',\n",
      "       'contributing_factor_vehicle_3', 'vehicle_type_code_3',\n",
      "       'contributing_factor_vehicle_4', 'contributing_factor_vehicle_5',\n",
      "       'vehicle_type_code_4', 'vehicle_type_code_5', 'contributing_factors',\n",
      "       'vehicle_types'],\n",
      "      dtype='object')\n"
     ]
    }
   ],
   "source": [
    "# ACTION REQUIRED\n",
    "# edit the drop_columns list below to include all the columns you would like to drop\n",
    "# then, run this cell to drop columns\n",
    "\n",
    "drop_columns = [\"crash_time\",\n",
    "               \"on_street_name\",\n",
    "               \"cross_street_name\",\n",
    "               \"off_street_name\"]\n",
    "\n",
    "for column in drop_columns:\n",
    "    try:\n",
    "        data.drop(column, axis = 1, inplace = True)\n",
    "    except:\n",
    "        print(f\"unable to drop {column}\")\n",
    "\n",
    "print(f\"columns left in dataframe: {data.columns}\")"
   ]
  },
  {
   "cell_type": "code",
   "execution_count": 27,
   "metadata": {
    "colab": {
     "base_uri": "https://localhost:8080/"
    },
    "id": "y8BvWQdSyKtK",
    "outputId": "128cfbd1-c300-42a1-c8c0-a94c50cfad38"
   },
   "outputs": [
    {
     "name": "stdout",
     "output_type": "stream",
     "text": [
      "number of duplicate rows: 18\n"
     ]
    }
   ],
   "source": [
    "# find number of duplicate rows\n",
    "\n",
    "print(f\"number of duplicate rows: {len(data[data.duplicated()])}\")"
   ]
  },
  {
   "cell_type": "code",
   "execution_count": 28,
   "metadata": {
    "colab": {
     "base_uri": "https://localhost:8080/"
    },
    "id": "MdBdS0TSyKtL",
    "outputId": "1be1c079-2f7b-4731-8c3c-45caddef8079"
   },
   "outputs": [
    {
     "name": "stdout",
     "output_type": "stream",
     "text": [
      "number of rows after duplicates dropped: 144711\n"
     ]
    }
   ],
   "source": [
    "# drop duplicate rows based on entire row\n",
    "data = data.drop_duplicates(keep = 'first')\n",
    "\n",
    "# Or, based on a subset of rows, uncomment below and adjust accordingly\n",
    "## data = data.drop_duplicates(subset = [\"subset column\"], keep = 'first')\n",
    "## data = data.drop_duplicates(subset = [\"subset column 1\", \"subset column 2\"], keep = 'first')\n",
    "\n",
    "print(f\"number of rows after duplicates dropped: {len(data)}\")"
   ]
  },
  {
   "cell_type": "markdown",
   "metadata": {
    "id": "URocffnRyKtL"
   },
   "source": [
    "### Step 7: Create Location Dimension"
   ]
  },
  {
   "cell_type": "code",
   "execution_count": 29,
   "metadata": {
    "id": "4rl65_1fyKtL"
   },
   "outputs": [],
   "source": [
    "# first, copy the entire table\n",
    "location_dim = data.copy()"
   ]
  },
  {
   "cell_type": "code",
   "execution_count": 30,
   "metadata": {
    "colab": {
     "base_uri": "https://localhost:8080/"
    },
    "id": "zuVP_a5RyKtL",
    "outputId": "383955e8-5807-436a-85da-21095e1eb366"
   },
   "outputs": [
    {
     "data": {
      "text/plain": [
       "Index(['crash_date', 'latitude', 'longitude', 'number_of_persons_injured',\n",
       "       'number_of_persons_killed', 'number_of_pedestrians_injured',\n",
       "       'number_of_pedestrians_killed', 'number_of_cyclist_injured',\n",
       "       'number_of_cyclist_killed', 'number_of_motorist_injured',\n",
       "       'number_of_motorist_killed', 'contributing_factor_vehicle_1',\n",
       "       'contributing_factor_vehicle_2', 'collision_id', 'vehicle_type_code1',\n",
       "       'vehicle_type_code2', 'borough', 'zip_code',\n",
       "       'contributing_factor_vehicle_3', 'vehicle_type_code_3',\n",
       "       'contributing_factor_vehicle_4', 'contributing_factor_vehicle_5',\n",
       "       'vehicle_type_code_4', 'vehicle_type_code_5', 'contributing_factors',\n",
       "       'vehicle_types'],\n",
       "      dtype='object')"
      ]
     },
     "execution_count": 30,
     "metadata": {},
     "output_type": "execute_result"
    }
   ],
   "source": [
    "location_dim.columns"
   ]
  },
  {
   "cell_type": "code",
   "execution_count": 31,
   "metadata": {
    "id": "hRs9aISoyKtL"
   },
   "outputs": [],
   "source": [
    "# second, subset for only the wanted columns in the dimension\n",
    "location_dim = location_dim[[\"longitude\",\n",
    "                             \"latitude\",\n",
    "                             \"borough\",\n",
    "                             \"zip_code\"]]"
   ]
  },
  {
   "cell_type": "code",
   "execution_count": 32,
   "metadata": {
    "colab": {
     "base_uri": "https://localhost:8080/",
     "height": 0
    },
    "id": "w303ZMhMyKtL",
    "outputId": "9c69784b-52bf-4ac5-bd54-b7f59553628f"
   },
   "outputs": [
    {
     "data": {
      "text/html": [
       "<div>\n",
       "<style scoped>\n",
       "    .dataframe tbody tr th:only-of-type {\n",
       "        vertical-align: middle;\n",
       "    }\n",
       "\n",
       "    .dataframe tbody tr th {\n",
       "        vertical-align: top;\n",
       "    }\n",
       "\n",
       "    .dataframe thead th {\n",
       "        text-align: right;\n",
       "    }\n",
       "</style>\n",
       "<table border=\"1\" class=\"dataframe\">\n",
       "  <thead>\n",
       "    <tr style=\"text-align: right;\">\n",
       "      <th></th>\n",
       "      <th>longitude</th>\n",
       "      <th>latitude</th>\n",
       "      <th>borough</th>\n",
       "      <th>zip_code</th>\n",
       "    </tr>\n",
       "  </thead>\n",
       "  <tbody>\n",
       "    <tr>\n",
       "      <th>0</th>\n",
       "      <td>-73.8243100</td>\n",
       "      <td>40.8249320</td>\n",
       "      <td>NaN</td>\n",
       "      <td>NaN</td>\n",
       "    </tr>\n",
       "    <tr>\n",
       "      <th>1</th>\n",
       "      <td>-73.9359200</td>\n",
       "      <td>40.7953100</td>\n",
       "      <td>NaN</td>\n",
       "      <td>NaN</td>\n",
       "    </tr>\n",
       "    <tr>\n",
       "      <th>2</th>\n",
       "      <td>NaN</td>\n",
       "      <td>NaN</td>\n",
       "      <td>NaN</td>\n",
       "      <td>NaN</td>\n",
       "    </tr>\n",
       "    <tr>\n",
       "      <th>3</th>\n",
       "      <td>NaN</td>\n",
       "      <td>NaN</td>\n",
       "      <td>NaN</td>\n",
       "      <td>NaN</td>\n",
       "    </tr>\n",
       "    <tr>\n",
       "      <th>4</th>\n",
       "      <td>-73.8302840</td>\n",
       "      <td>40.7428500</td>\n",
       "      <td>NaN</td>\n",
       "      <td>NaN</td>\n",
       "    </tr>\n",
       "    <tr>\n",
       "      <th>...</th>\n",
       "      <td>...</td>\n",
       "      <td>...</td>\n",
       "      <td>...</td>\n",
       "      <td>...</td>\n",
       "    </tr>\n",
       "    <tr>\n",
       "      <th>144724</th>\n",
       "      <td>0.0000000</td>\n",
       "      <td>0.0000000</td>\n",
       "      <td>BRONX</td>\n",
       "      <td>10459</td>\n",
       "    </tr>\n",
       "    <tr>\n",
       "      <th>144725</th>\n",
       "      <td>-73.73029</td>\n",
       "      <td>40.711876</td>\n",
       "      <td>QUEENS</td>\n",
       "      <td>11429</td>\n",
       "    </tr>\n",
       "    <tr>\n",
       "      <th>144726</th>\n",
       "      <td>-73.96057</td>\n",
       "      <td>40.5778</td>\n",
       "      <td>NaN</td>\n",
       "      <td>NaN</td>\n",
       "    </tr>\n",
       "    <tr>\n",
       "      <th>144727</th>\n",
       "      <td>-73.92966</td>\n",
       "      <td>40.765373</td>\n",
       "      <td>QUEENS</td>\n",
       "      <td>11106</td>\n",
       "    </tr>\n",
       "    <tr>\n",
       "      <th>144728</th>\n",
       "      <td>0.0000000</td>\n",
       "      <td>0.0000000</td>\n",
       "      <td>BROOKLYN</td>\n",
       "      <td>11211</td>\n",
       "    </tr>\n",
       "  </tbody>\n",
       "</table>\n",
       "<p>144711 rows × 4 columns</p>\n",
       "</div>"
      ],
      "text/plain": [
       "          longitude    latitude   borough zip_code\n",
       "0       -73.8243100  40.8249320       NaN      NaN\n",
       "1       -73.9359200  40.7953100       NaN      NaN\n",
       "2               NaN         NaN       NaN      NaN\n",
       "3               NaN         NaN       NaN      NaN\n",
       "4       -73.8302840  40.7428500       NaN      NaN\n",
       "...             ...         ...       ...      ...\n",
       "144724    0.0000000   0.0000000     BRONX    10459\n",
       "144725    -73.73029   40.711876    QUEENS    11429\n",
       "144726    -73.96057     40.5778       NaN      NaN\n",
       "144727    -73.92966   40.765373    QUEENS    11106\n",
       "144728    0.0000000   0.0000000  BROOKLYN    11211\n",
       "\n",
       "[144711 rows x 4 columns]"
      ]
     },
     "execution_count": 32,
     "metadata": {},
     "output_type": "execute_result"
    }
   ],
   "source": [
    "location_dim"
   ]
  },
  {
   "cell_type": "code",
   "execution_count": 33,
   "metadata": {
    "colab": {
     "base_uri": "https://localhost:8080/",
     "height": 0
    },
    "id": "oE_9GyT9yKtL",
    "outputId": "b8fe88e0-4589-46d7-a982-30a5d315fc98"
   },
   "outputs": [
    {
     "data": {
      "text/html": [
       "<div>\n",
       "<style scoped>\n",
       "    .dataframe tbody tr th:only-of-type {\n",
       "        vertical-align: middle;\n",
       "    }\n",
       "\n",
       "    .dataframe tbody tr th {\n",
       "        vertical-align: top;\n",
       "    }\n",
       "\n",
       "    .dataframe thead th {\n",
       "        text-align: right;\n",
       "    }\n",
       "</style>\n",
       "<table border=\"1\" class=\"dataframe\">\n",
       "  <thead>\n",
       "    <tr style=\"text-align: right;\">\n",
       "      <th></th>\n",
       "      <th>longitude</th>\n",
       "      <th>latitude</th>\n",
       "      <th>borough</th>\n",
       "      <th>zip_code</th>\n",
       "    </tr>\n",
       "  </thead>\n",
       "  <tbody>\n",
       "    <tr>\n",
       "      <th>0</th>\n",
       "      <td>-73.8243100</td>\n",
       "      <td>40.8249320</td>\n",
       "      <td>NaN</td>\n",
       "      <td>NaN</td>\n",
       "    </tr>\n",
       "    <tr>\n",
       "      <th>1</th>\n",
       "      <td>-73.9359200</td>\n",
       "      <td>40.7953100</td>\n",
       "      <td>NaN</td>\n",
       "      <td>NaN</td>\n",
       "    </tr>\n",
       "    <tr>\n",
       "      <th>2</th>\n",
       "      <td>NaN</td>\n",
       "      <td>NaN</td>\n",
       "      <td>NaN</td>\n",
       "      <td>NaN</td>\n",
       "    </tr>\n",
       "    <tr>\n",
       "      <th>3</th>\n",
       "      <td>-73.8302840</td>\n",
       "      <td>40.7428500</td>\n",
       "      <td>NaN</td>\n",
       "      <td>NaN</td>\n",
       "    </tr>\n",
       "    <tr>\n",
       "      <th>4</th>\n",
       "      <td>-73.9786400</td>\n",
       "      <td>40.6379100</td>\n",
       "      <td>BROOKLYN</td>\n",
       "      <td>11218</td>\n",
       "    </tr>\n",
       "    <tr>\n",
       "      <th>...</th>\n",
       "      <td>...</td>\n",
       "      <td>...</td>\n",
       "      <td>...</td>\n",
       "      <td>...</td>\n",
       "    </tr>\n",
       "    <tr>\n",
       "      <th>72224</th>\n",
       "      <td>-73.880646</td>\n",
       "      <td>40.761833</td>\n",
       "      <td>QUEENS</td>\n",
       "      <td>11369</td>\n",
       "    </tr>\n",
       "    <tr>\n",
       "      <th>72225</th>\n",
       "      <td>-73.923134</td>\n",
       "      <td>40.828846</td>\n",
       "      <td>BRONX</td>\n",
       "      <td>10452</td>\n",
       "    </tr>\n",
       "    <tr>\n",
       "      <th>72226</th>\n",
       "      <td>-73.90615</td>\n",
       "      <td>40.641212</td>\n",
       "      <td>BROOKLYN</td>\n",
       "      <td>11236</td>\n",
       "    </tr>\n",
       "    <tr>\n",
       "      <th>72227</th>\n",
       "      <td>-73.90594</td>\n",
       "      <td>40.807285</td>\n",
       "      <td>NaN</td>\n",
       "      <td>NaN</td>\n",
       "    </tr>\n",
       "    <tr>\n",
       "      <th>72228</th>\n",
       "      <td>-73.92966</td>\n",
       "      <td>40.765373</td>\n",
       "      <td>QUEENS</td>\n",
       "      <td>11106</td>\n",
       "    </tr>\n",
       "  </tbody>\n",
       "</table>\n",
       "<p>72229 rows × 4 columns</p>\n",
       "</div>"
      ],
      "text/plain": [
       "         longitude    latitude   borough zip_code\n",
       "0      -73.8243100  40.8249320       NaN      NaN\n",
       "1      -73.9359200  40.7953100       NaN      NaN\n",
       "2              NaN         NaN       NaN      NaN\n",
       "3      -73.8302840  40.7428500       NaN      NaN\n",
       "4      -73.9786400  40.6379100  BROOKLYN    11218\n",
       "...            ...         ...       ...      ...\n",
       "72224   -73.880646   40.761833    QUEENS    11369\n",
       "72225   -73.923134   40.828846     BRONX    10452\n",
       "72226    -73.90615   40.641212  BROOKLYN    11236\n",
       "72227    -73.90594   40.807285       NaN      NaN\n",
       "72228    -73.92966   40.765373    QUEENS    11106\n",
       "\n",
       "[72229 rows x 4 columns]"
      ]
     },
     "execution_count": 33,
     "metadata": {},
     "output_type": "execute_result"
    }
   ],
   "source": [
    "# third, drop duplicate rows in dimension\n",
    "location_dim = location_dim.drop_duplicates(subset = [\"longitude\",\"latitude\"], keep = 'first')\n",
    "location_dim = location_dim.reset_index(drop = True)\n",
    "location_dim"
   ]
  },
  {
   "cell_type": "code",
   "execution_count": 34,
   "metadata": {
    "colab": {
     "base_uri": "https://localhost:8080/",
     "height": 0
    },
    "id": "RHvTWIQ6yKtM",
    "outputId": "925f794f-34a5-487a-cbf3-8ba76413054d"
   },
   "outputs": [
    {
     "data": {
      "text/html": [
       "<div>\n",
       "<style scoped>\n",
       "    .dataframe tbody tr th:only-of-type {\n",
       "        vertical-align: middle;\n",
       "    }\n",
       "\n",
       "    .dataframe tbody tr th {\n",
       "        vertical-align: top;\n",
       "    }\n",
       "\n",
       "    .dataframe thead th {\n",
       "        text-align: right;\n",
       "    }\n",
       "</style>\n",
       "<table border=\"1\" class=\"dataframe\">\n",
       "  <thead>\n",
       "    <tr style=\"text-align: right;\">\n",
       "      <th></th>\n",
       "      <th>location_id</th>\n",
       "      <th>longitude</th>\n",
       "      <th>latitude</th>\n",
       "      <th>borough</th>\n",
       "      <th>zip_code</th>\n",
       "    </tr>\n",
       "  </thead>\n",
       "  <tbody>\n",
       "    <tr>\n",
       "      <th>0</th>\n",
       "      <td>1000</td>\n",
       "      <td>-73.8243100</td>\n",
       "      <td>40.8249320</td>\n",
       "      <td>NaN</td>\n",
       "      <td>NaN</td>\n",
       "    </tr>\n",
       "    <tr>\n",
       "      <th>1</th>\n",
       "      <td>1001</td>\n",
       "      <td>-73.9359200</td>\n",
       "      <td>40.7953100</td>\n",
       "      <td>NaN</td>\n",
       "      <td>NaN</td>\n",
       "    </tr>\n",
       "    <tr>\n",
       "      <th>2</th>\n",
       "      <td>1002</td>\n",
       "      <td>NaN</td>\n",
       "      <td>NaN</td>\n",
       "      <td>NaN</td>\n",
       "      <td>NaN</td>\n",
       "    </tr>\n",
       "    <tr>\n",
       "      <th>3</th>\n",
       "      <td>1003</td>\n",
       "      <td>-73.8302840</td>\n",
       "      <td>40.7428500</td>\n",
       "      <td>NaN</td>\n",
       "      <td>NaN</td>\n",
       "    </tr>\n",
       "    <tr>\n",
       "      <th>4</th>\n",
       "      <td>1004</td>\n",
       "      <td>-73.9786400</td>\n",
       "      <td>40.6379100</td>\n",
       "      <td>BROOKLYN</td>\n",
       "      <td>11218</td>\n",
       "    </tr>\n",
       "  </tbody>\n",
       "</table>\n",
       "</div>"
      ],
      "text/plain": [
       "   location_id    longitude    latitude   borough zip_code\n",
       "0         1000  -73.8243100  40.8249320       NaN      NaN\n",
       "1         1001  -73.9359200  40.7953100       NaN      NaN\n",
       "2         1002          NaN         NaN       NaN      NaN\n",
       "3         1003  -73.8302840  40.7428500       NaN      NaN\n",
       "4         1004  -73.9786400  40.6379100  BROOKLYN    11218"
      ]
     },
     "execution_count": 34,
     "metadata": {},
     "output_type": "execute_result"
    }
   ],
   "source": [
    "# fourth, add location_id as a surrogate key\n",
    "location_dim.insert(0, 'location_id', range(1000, 1000 + len(location_dim)))\n",
    "location_dim.head()"
   ]
  },
  {
   "cell_type": "code",
   "execution_count": 35,
   "metadata": {
    "colab": {
     "base_uri": "https://localhost:8080/",
     "height": 0
    },
    "id": "WZZ3x9VHyKtM",
    "outputId": "220acf36-ea65-430c-e331-2c0714059de3",
    "scrolled": true
   },
   "outputs": [
    {
     "data": {
      "text/html": [
       "<div>\n",
       "<style scoped>\n",
       "    .dataframe tbody tr th:only-of-type {\n",
       "        vertical-align: middle;\n",
       "    }\n",
       "\n",
       "    .dataframe tbody tr th {\n",
       "        vertical-align: top;\n",
       "    }\n",
       "\n",
       "    .dataframe thead th {\n",
       "        text-align: right;\n",
       "    }\n",
       "</style>\n",
       "<table border=\"1\" class=\"dataframe\">\n",
       "  <thead>\n",
       "    <tr style=\"text-align: right;\">\n",
       "      <th></th>\n",
       "      <th>crash_date</th>\n",
       "      <th>latitude</th>\n",
       "      <th>longitude</th>\n",
       "      <th>number_of_persons_injured</th>\n",
       "      <th>number_of_persons_killed</th>\n",
       "      <th>number_of_pedestrians_injured</th>\n",
       "      <th>number_of_pedestrians_killed</th>\n",
       "      <th>number_of_cyclist_injured</th>\n",
       "      <th>number_of_cyclist_killed</th>\n",
       "      <th>number_of_motorist_injured</th>\n",
       "      <th>...</th>\n",
       "      <th>zip_code</th>\n",
       "      <th>contributing_factor_vehicle_3</th>\n",
       "      <th>vehicle_type_code_3</th>\n",
       "      <th>contributing_factor_vehicle_4</th>\n",
       "      <th>contributing_factor_vehicle_5</th>\n",
       "      <th>vehicle_type_code_4</th>\n",
       "      <th>vehicle_type_code_5</th>\n",
       "      <th>contributing_factors</th>\n",
       "      <th>vehicle_types</th>\n",
       "      <th>location_id</th>\n",
       "    </tr>\n",
       "  </thead>\n",
       "  <tbody>\n",
       "    <tr>\n",
       "      <th>0</th>\n",
       "      <td>2021-01-01T00:00:00.000</td>\n",
       "      <td>40.8249320</td>\n",
       "      <td>-73.8243100</td>\n",
       "      <td>0</td>\n",
       "      <td>0</td>\n",
       "      <td>0</td>\n",
       "      <td>0</td>\n",
       "      <td>0</td>\n",
       "      <td>0</td>\n",
       "      <td>0</td>\n",
       "      <td>...</td>\n",
       "      <td>NaN</td>\n",
       "      <td>NaN</td>\n",
       "      <td>NaN</td>\n",
       "      <td>NaN</td>\n",
       "      <td>NaN</td>\n",
       "      <td>NaN</td>\n",
       "      <td>NaN</td>\n",
       "      <td>Unspecified, Unspecified</td>\n",
       "      <td>Sedan, Sedan</td>\n",
       "      <td>1000</td>\n",
       "    </tr>\n",
       "    <tr>\n",
       "      <th>1</th>\n",
       "      <td>2021-01-01T00:00:00.000</td>\n",
       "      <td>40.7953100</td>\n",
       "      <td>-73.9359200</td>\n",
       "      <td>1</td>\n",
       "      <td>0</td>\n",
       "      <td>1</td>\n",
       "      <td>0</td>\n",
       "      <td>0</td>\n",
       "      <td>0</td>\n",
       "      <td>0</td>\n",
       "      <td>...</td>\n",
       "      <td>NaN</td>\n",
       "      <td>NaN</td>\n",
       "      <td>NaN</td>\n",
       "      <td>NaN</td>\n",
       "      <td>NaN</td>\n",
       "      <td>NaN</td>\n",
       "      <td>NaN</td>\n",
       "      <td>Following Too Closely</td>\n",
       "      <td>Sedan</td>\n",
       "      <td>1001</td>\n",
       "    </tr>\n",
       "  </tbody>\n",
       "</table>\n",
       "<p>2 rows × 27 columns</p>\n",
       "</div>"
      ],
      "text/plain": [
       "                crash_date    latitude    longitude number_of_persons_injured  \\\n",
       "0  2021-01-01T00:00:00.000  40.8249320  -73.8243100                         0   \n",
       "1  2021-01-01T00:00:00.000  40.7953100  -73.9359200                         1   \n",
       "\n",
       "  number_of_persons_killed number_of_pedestrians_injured  \\\n",
       "0                        0                             0   \n",
       "1                        0                             1   \n",
       "\n",
       "  number_of_pedestrians_killed number_of_cyclist_injured  \\\n",
       "0                            0                         0   \n",
       "1                            0                         0   \n",
       "\n",
       "  number_of_cyclist_killed number_of_motorist_injured  ... zip_code  \\\n",
       "0                        0                          0  ...      NaN   \n",
       "1                        0                          0  ...      NaN   \n",
       "\n",
       "  contributing_factor_vehicle_3 vehicle_type_code_3  \\\n",
       "0                           NaN                 NaN   \n",
       "1                           NaN                 NaN   \n",
       "\n",
       "  contributing_factor_vehicle_4 contributing_factor_vehicle_5  \\\n",
       "0                           NaN                           NaN   \n",
       "1                           NaN                           NaN   \n",
       "\n",
       "  vehicle_type_code_4 vehicle_type_code_5      contributing_factors  \\\n",
       "0                 NaN                 NaN  Unspecified, Unspecified   \n",
       "1                 NaN                 NaN     Following Too Closely   \n",
       "\n",
       "  vehicle_types location_id  \n",
       "0  Sedan, Sedan        1000  \n",
       "1         Sedan        1001  \n",
       "\n",
       "[2 rows x 27 columns]"
      ]
     },
     "execution_count": 35,
     "metadata": {},
     "output_type": "execute_result"
    }
   ],
   "source": [
    "# fifth, add the location_id to the data table\n",
    "data = data.merge(location_dim[['longitude', 'latitude', 'location_id']],\n",
    "                  left_on = ['longitude', 'latitude'],\n",
    "                  right_on = ['longitude', 'latitude'],\n",
    "                  how = 'left')\n",
    "\n",
    "data.head(2)"
   ]
  },
  {
   "cell_type": "markdown",
   "metadata": {
    "id": "lNgDTzA5yKtM"
   },
   "source": [
    "### Step 8: Create Contributing Factor Dimension"
   ]
  },
  {
   "cell_type": "code",
   "execution_count": 36,
   "metadata": {
    "id": "e4t3HbHWyKtM"
   },
   "outputs": [],
   "source": [
    "# first, copy the entire table\n",
    "contributingFactor_dim = data.copy()"
   ]
  },
  {
   "cell_type": "code",
   "execution_count": 37,
   "metadata": {
    "colab": {
     "base_uri": "https://localhost:8080/"
    },
    "id": "8apPj7qdyKtM",
    "outputId": "a52d5151-35d4-424a-d6d1-b60eace59298"
   },
   "outputs": [
    {
     "data": {
      "text/plain": [
       "Index(['crash_date', 'latitude', 'longitude', 'number_of_persons_injured',\n",
       "       'number_of_persons_killed', 'number_of_pedestrians_injured',\n",
       "       'number_of_pedestrians_killed', 'number_of_cyclist_injured',\n",
       "       'number_of_cyclist_killed', 'number_of_motorist_injured',\n",
       "       'number_of_motorist_killed', 'contributing_factor_vehicle_1',\n",
       "       'contributing_factor_vehicle_2', 'collision_id', 'vehicle_type_code1',\n",
       "       'vehicle_type_code2', 'borough', 'zip_code',\n",
       "       'contributing_factor_vehicle_3', 'vehicle_type_code_3',\n",
       "       'contributing_factor_vehicle_4', 'contributing_factor_vehicle_5',\n",
       "       'vehicle_type_code_4', 'vehicle_type_code_5', 'contributing_factors',\n",
       "       'vehicle_types', 'location_id'],\n",
       "      dtype='object')"
      ]
     },
     "execution_count": 37,
     "metadata": {},
     "output_type": "execute_result"
    }
   ],
   "source": [
    "contributingFactor_dim.columns"
   ]
  },
  {
   "cell_type": "code",
   "execution_count": 38,
   "metadata": {
    "id": "QGvQlu1qyKtM"
   },
   "outputs": [],
   "source": [
    "# second, subset for only the wanted columns in the dimension\n",
    "contributingFactor_dim = contributingFactor_dim[[\"contributing_factor_vehicle_1\", \"contributing_factors\"]]"
   ]
  },
  {
   "cell_type": "code",
   "execution_count": 39,
   "metadata": {
    "colab": {
     "base_uri": "https://localhost:8080/",
     "height": 0
    },
    "id": "NxRlRpqkyKtN",
    "outputId": "db0bdf1d-fcc6-405b-ff7e-6d9b2bdd1156"
   },
   "outputs": [
    {
     "data": {
      "text/html": [
       "<div>\n",
       "<style scoped>\n",
       "    .dataframe tbody tr th:only-of-type {\n",
       "        vertical-align: middle;\n",
       "    }\n",
       "\n",
       "    .dataframe tbody tr th {\n",
       "        vertical-align: top;\n",
       "    }\n",
       "\n",
       "    .dataframe thead th {\n",
       "        text-align: right;\n",
       "    }\n",
       "</style>\n",
       "<table border=\"1\" class=\"dataframe\">\n",
       "  <thead>\n",
       "    <tr style=\"text-align: right;\">\n",
       "      <th></th>\n",
       "      <th>contributing_factor_vehicle_1</th>\n",
       "      <th>contributing_factors</th>\n",
       "    </tr>\n",
       "  </thead>\n",
       "  <tbody>\n",
       "    <tr>\n",
       "      <th>0</th>\n",
       "      <td>Unspecified</td>\n",
       "      <td>Unspecified, Unspecified</td>\n",
       "    </tr>\n",
       "    <tr>\n",
       "      <th>1</th>\n",
       "      <td>Following Too Closely</td>\n",
       "      <td>Following Too Closely</td>\n",
       "    </tr>\n",
       "    <tr>\n",
       "      <th>2</th>\n",
       "      <td>Fell Asleep</td>\n",
       "      <td>Fell Asleep</td>\n",
       "    </tr>\n",
       "    <tr>\n",
       "      <th>3</th>\n",
       "      <td>Driver Inattention/Distraction</td>\n",
       "      <td>Driver Inattention/Distraction</td>\n",
       "    </tr>\n",
       "    <tr>\n",
       "      <th>4</th>\n",
       "      <td>Unsafe Speed</td>\n",
       "      <td>Unsafe Speed, Unspecified</td>\n",
       "    </tr>\n",
       "  </tbody>\n",
       "</table>\n",
       "</div>"
      ],
      "text/plain": [
       "    contributing_factor_vehicle_1            contributing_factors\n",
       "0                     Unspecified        Unspecified, Unspecified\n",
       "1           Following Too Closely           Following Too Closely\n",
       "2                     Fell Asleep                     Fell Asleep\n",
       "3  Driver Inattention/Distraction  Driver Inattention/Distraction\n",
       "4                    Unsafe Speed       Unsafe Speed, Unspecified"
      ]
     },
     "execution_count": 39,
     "metadata": {},
     "output_type": "execute_result"
    }
   ],
   "source": [
    "# third, drop duplicate rows in dimension\n",
    "contributingFactor_dim = contributingFactor_dim.drop_duplicates(subset = [\"contributing_factors\"], keep = 'first')\n",
    "contributingFactor_dim = contributingFactor_dim.reset_index(drop = True)\n",
    "contributingFactor_dim.head()\n"
   ]
  },
  {
   "cell_type": "code",
   "execution_count": 40,
   "metadata": {
    "colab": {
     "base_uri": "https://localhost:8080/",
     "height": 0
    },
    "id": "Pw_ZzGkQyKtN",
    "outputId": "aa63e7be-1f38-481a-c539-ced0d1fe9a00"
   },
   "outputs": [
    {
     "data": {
      "text/html": [
       "<div>\n",
       "<style scoped>\n",
       "    .dataframe tbody tr th:only-of-type {\n",
       "        vertical-align: middle;\n",
       "    }\n",
       "\n",
       "    .dataframe tbody tr th {\n",
       "        vertical-align: top;\n",
       "    }\n",
       "\n",
       "    .dataframe thead th {\n",
       "        text-align: right;\n",
       "    }\n",
       "</style>\n",
       "<table border=\"1\" class=\"dataframe\">\n",
       "  <thead>\n",
       "    <tr style=\"text-align: right;\">\n",
       "      <th></th>\n",
       "      <th>contributingFactor_id</th>\n",
       "      <th>contributing_factor_vehicle_1</th>\n",
       "      <th>contributing_factors</th>\n",
       "    </tr>\n",
       "  </thead>\n",
       "  <tbody>\n",
       "    <tr>\n",
       "      <th>0</th>\n",
       "      <td>2000</td>\n",
       "      <td>Unspecified</td>\n",
       "      <td>Unspecified, Unspecified</td>\n",
       "    </tr>\n",
       "    <tr>\n",
       "      <th>1</th>\n",
       "      <td>2001</td>\n",
       "      <td>Following Too Closely</td>\n",
       "      <td>Following Too Closely</td>\n",
       "    </tr>\n",
       "    <tr>\n",
       "      <th>2</th>\n",
       "      <td>2002</td>\n",
       "      <td>Fell Asleep</td>\n",
       "      <td>Fell Asleep</td>\n",
       "    </tr>\n",
       "    <tr>\n",
       "      <th>3</th>\n",
       "      <td>2003</td>\n",
       "      <td>Driver Inattention/Distraction</td>\n",
       "      <td>Driver Inattention/Distraction</td>\n",
       "    </tr>\n",
       "    <tr>\n",
       "      <th>4</th>\n",
       "      <td>2004</td>\n",
       "      <td>Unsafe Speed</td>\n",
       "      <td>Unsafe Speed, Unspecified</td>\n",
       "    </tr>\n",
       "  </tbody>\n",
       "</table>\n",
       "</div>"
      ],
      "text/plain": [
       "   contributingFactor_id   contributing_factor_vehicle_1  \\\n",
       "0                   2000                     Unspecified   \n",
       "1                   2001           Following Too Closely   \n",
       "2                   2002                     Fell Asleep   \n",
       "3                   2003  Driver Inattention/Distraction   \n",
       "4                   2004                    Unsafe Speed   \n",
       "\n",
       "             contributing_factors  \n",
       "0        Unspecified, Unspecified  \n",
       "1           Following Too Closely  \n",
       "2                     Fell Asleep  \n",
       "3  Driver Inattention/Distraction  \n",
       "4       Unsafe Speed, Unspecified  "
      ]
     },
     "execution_count": 40,
     "metadata": {},
     "output_type": "execute_result"
    }
   ],
   "source": [
    "# fourth, add location_id as a surrogate key\n",
    "contributingFactor_dim.insert(0, 'contributingFactor_id', range(2000, 2000 + len(contributingFactor_dim)))\n",
    "contributingFactor_dim.head()"
   ]
  },
  {
   "cell_type": "code",
   "execution_count": 41,
   "metadata": {
    "colab": {
     "base_uri": "https://localhost:8080/",
     "height": 0
    },
    "id": "qao75yIQyKtN",
    "outputId": "52bf9854-0188-4d99-d5f3-cc07bcce3c2f"
   },
   "outputs": [
    {
     "data": {
      "text/html": [
       "<div>\n",
       "<style scoped>\n",
       "    .dataframe tbody tr th:only-of-type {\n",
       "        vertical-align: middle;\n",
       "    }\n",
       "\n",
       "    .dataframe tbody tr th {\n",
       "        vertical-align: top;\n",
       "    }\n",
       "\n",
       "    .dataframe thead th {\n",
       "        text-align: right;\n",
       "    }\n",
       "</style>\n",
       "<table border=\"1\" class=\"dataframe\">\n",
       "  <thead>\n",
       "    <tr style=\"text-align: right;\">\n",
       "      <th></th>\n",
       "      <th>crash_date</th>\n",
       "      <th>latitude</th>\n",
       "      <th>longitude</th>\n",
       "      <th>number_of_persons_injured</th>\n",
       "      <th>number_of_persons_killed</th>\n",
       "      <th>number_of_pedestrians_injured</th>\n",
       "      <th>number_of_pedestrians_killed</th>\n",
       "      <th>number_of_cyclist_injured</th>\n",
       "      <th>number_of_cyclist_killed</th>\n",
       "      <th>number_of_motorist_injured</th>\n",
       "      <th>...</th>\n",
       "      <th>contributing_factor_vehicle_3</th>\n",
       "      <th>vehicle_type_code_3</th>\n",
       "      <th>contributing_factor_vehicle_4</th>\n",
       "      <th>contributing_factor_vehicle_5</th>\n",
       "      <th>vehicle_type_code_4</th>\n",
       "      <th>vehicle_type_code_5</th>\n",
       "      <th>contributing_factors</th>\n",
       "      <th>vehicle_types</th>\n",
       "      <th>location_id</th>\n",
       "      <th>contributingFactor_id</th>\n",
       "    </tr>\n",
       "  </thead>\n",
       "  <tbody>\n",
       "    <tr>\n",
       "      <th>0</th>\n",
       "      <td>2021-01-01T00:00:00.000</td>\n",
       "      <td>40.8249320</td>\n",
       "      <td>-73.8243100</td>\n",
       "      <td>0</td>\n",
       "      <td>0</td>\n",
       "      <td>0</td>\n",
       "      <td>0</td>\n",
       "      <td>0</td>\n",
       "      <td>0</td>\n",
       "      <td>0</td>\n",
       "      <td>...</td>\n",
       "      <td>NaN</td>\n",
       "      <td>NaN</td>\n",
       "      <td>NaN</td>\n",
       "      <td>NaN</td>\n",
       "      <td>NaN</td>\n",
       "      <td>NaN</td>\n",
       "      <td>Unspecified, Unspecified</td>\n",
       "      <td>Sedan, Sedan</td>\n",
       "      <td>1000</td>\n",
       "      <td>2000</td>\n",
       "    </tr>\n",
       "    <tr>\n",
       "      <th>1</th>\n",
       "      <td>2021-01-01T00:00:00.000</td>\n",
       "      <td>40.7953100</td>\n",
       "      <td>-73.9359200</td>\n",
       "      <td>1</td>\n",
       "      <td>0</td>\n",
       "      <td>1</td>\n",
       "      <td>0</td>\n",
       "      <td>0</td>\n",
       "      <td>0</td>\n",
       "      <td>0</td>\n",
       "      <td>...</td>\n",
       "      <td>NaN</td>\n",
       "      <td>NaN</td>\n",
       "      <td>NaN</td>\n",
       "      <td>NaN</td>\n",
       "      <td>NaN</td>\n",
       "      <td>NaN</td>\n",
       "      <td>Following Too Closely</td>\n",
       "      <td>Sedan</td>\n",
       "      <td>1001</td>\n",
       "      <td>2001</td>\n",
       "    </tr>\n",
       "    <tr>\n",
       "      <th>2</th>\n",
       "      <td>2021-01-01T00:00:00.000</td>\n",
       "      <td>NaN</td>\n",
       "      <td>NaN</td>\n",
       "      <td>0</td>\n",
       "      <td>0</td>\n",
       "      <td>0</td>\n",
       "      <td>0</td>\n",
       "      <td>0</td>\n",
       "      <td>0</td>\n",
       "      <td>0</td>\n",
       "      <td>...</td>\n",
       "      <td>NaN</td>\n",
       "      <td>NaN</td>\n",
       "      <td>NaN</td>\n",
       "      <td>NaN</td>\n",
       "      <td>NaN</td>\n",
       "      <td>NaN</td>\n",
       "      <td>Fell Asleep</td>\n",
       "      <td>Sedan</td>\n",
       "      <td>1002</td>\n",
       "      <td>2002</td>\n",
       "    </tr>\n",
       "    <tr>\n",
       "      <th>3</th>\n",
       "      <td>2021-01-01T00:00:00.000</td>\n",
       "      <td>NaN</td>\n",
       "      <td>NaN</td>\n",
       "      <td>1</td>\n",
       "      <td>0</td>\n",
       "      <td>0</td>\n",
       "      <td>0</td>\n",
       "      <td>0</td>\n",
       "      <td>0</td>\n",
       "      <td>1</td>\n",
       "      <td>...</td>\n",
       "      <td>NaN</td>\n",
       "      <td>NaN</td>\n",
       "      <td>NaN</td>\n",
       "      <td>NaN</td>\n",
       "      <td>NaN</td>\n",
       "      <td>NaN</td>\n",
       "      <td>Driver Inattention/Distraction</td>\n",
       "      <td>Sedan</td>\n",
       "      <td>1002</td>\n",
       "      <td>2003</td>\n",
       "    </tr>\n",
       "    <tr>\n",
       "      <th>4</th>\n",
       "      <td>2021-01-01T00:00:00.000</td>\n",
       "      <td>40.7428500</td>\n",
       "      <td>-73.8302840</td>\n",
       "      <td>1</td>\n",
       "      <td>0</td>\n",
       "      <td>0</td>\n",
       "      <td>0</td>\n",
       "      <td>0</td>\n",
       "      <td>0</td>\n",
       "      <td>1</td>\n",
       "      <td>...</td>\n",
       "      <td>NaN</td>\n",
       "      <td>NaN</td>\n",
       "      <td>NaN</td>\n",
       "      <td>NaN</td>\n",
       "      <td>NaN</td>\n",
       "      <td>NaN</td>\n",
       "      <td>Unsafe Speed, Unspecified</td>\n",
       "      <td>Sedan, Sedan</td>\n",
       "      <td>1003</td>\n",
       "      <td>2004</td>\n",
       "    </tr>\n",
       "  </tbody>\n",
       "</table>\n",
       "<p>5 rows × 28 columns</p>\n",
       "</div>"
      ],
      "text/plain": [
       "                crash_date    latitude    longitude number_of_persons_injured  \\\n",
       "0  2021-01-01T00:00:00.000  40.8249320  -73.8243100                         0   \n",
       "1  2021-01-01T00:00:00.000  40.7953100  -73.9359200                         1   \n",
       "2  2021-01-01T00:00:00.000         NaN          NaN                         0   \n",
       "3  2021-01-01T00:00:00.000         NaN          NaN                         1   \n",
       "4  2021-01-01T00:00:00.000  40.7428500  -73.8302840                         1   \n",
       "\n",
       "  number_of_persons_killed number_of_pedestrians_injured  \\\n",
       "0                        0                             0   \n",
       "1                        0                             1   \n",
       "2                        0                             0   \n",
       "3                        0                             0   \n",
       "4                        0                             0   \n",
       "\n",
       "  number_of_pedestrians_killed number_of_cyclist_injured  \\\n",
       "0                            0                         0   \n",
       "1                            0                         0   \n",
       "2                            0                         0   \n",
       "3                            0                         0   \n",
       "4                            0                         0   \n",
       "\n",
       "  number_of_cyclist_killed number_of_motorist_injured  ...  \\\n",
       "0                        0                          0  ...   \n",
       "1                        0                          0  ...   \n",
       "2                        0                          0  ...   \n",
       "3                        0                          1  ...   \n",
       "4                        0                          1  ...   \n",
       "\n",
       "  contributing_factor_vehicle_3 vehicle_type_code_3  \\\n",
       "0                           NaN                 NaN   \n",
       "1                           NaN                 NaN   \n",
       "2                           NaN                 NaN   \n",
       "3                           NaN                 NaN   \n",
       "4                           NaN                 NaN   \n",
       "\n",
       "  contributing_factor_vehicle_4 contributing_factor_vehicle_5  \\\n",
       "0                           NaN                           NaN   \n",
       "1                           NaN                           NaN   \n",
       "2                           NaN                           NaN   \n",
       "3                           NaN                           NaN   \n",
       "4                           NaN                           NaN   \n",
       "\n",
       "  vehicle_type_code_4 vehicle_type_code_5            contributing_factors  \\\n",
       "0                 NaN                 NaN        Unspecified, Unspecified   \n",
       "1                 NaN                 NaN           Following Too Closely   \n",
       "2                 NaN                 NaN                     Fell Asleep   \n",
       "3                 NaN                 NaN  Driver Inattention/Distraction   \n",
       "4                 NaN                 NaN       Unsafe Speed, Unspecified   \n",
       "\n",
       "  vehicle_types location_id contributingFactor_id  \n",
       "0  Sedan, Sedan        1000                  2000  \n",
       "1         Sedan        1001                  2001  \n",
       "2         Sedan        1002                  2002  \n",
       "3         Sedan        1002                  2003  \n",
       "4  Sedan, Sedan        1003                  2004  \n",
       "\n",
       "[5 rows x 28 columns]"
      ]
     },
     "execution_count": 41,
     "metadata": {},
     "output_type": "execute_result"
    }
   ],
   "source": [
    "# fifth, add the location_id to the Fact table\n",
    "data = data.merge(contributingFactor_dim[['contributing_factors',\n",
    "                                 'contributingFactor_id']],\n",
    "                  left_on = ['contributing_factors'],\n",
    "                  right_on = ['contributing_factors'],\n",
    "                  how = 'left')\n",
    "\n",
    "data.head()"
   ]
  },
  {
   "cell_type": "markdown",
   "metadata": {
    "id": "t4ruiNZURxai"
   },
   "source": [
    "### Step 9: Create Vehicle Type Dimension\n"
   ]
  },
  {
   "cell_type": "code",
   "execution_count": 42,
   "metadata": {
    "id": "8MIL2wjlSfwC"
   },
   "outputs": [],
   "source": [
    "# first, copy the entire table\n",
    "vehicle_type_dim = data.copy()"
   ]
  },
  {
   "cell_type": "code",
   "execution_count": 43,
   "metadata": {
    "colab": {
     "base_uri": "https://localhost:8080/"
    },
    "id": "BxTqJcdkSkwZ",
    "outputId": "1af274c3-a1cd-43f0-c5f8-8b08fe3b1b44"
   },
   "outputs": [
    {
     "data": {
      "text/plain": [
       "Index(['crash_date', 'latitude', 'longitude', 'number_of_persons_injured',\n",
       "       'number_of_persons_killed', 'number_of_pedestrians_injured',\n",
       "       'number_of_pedestrians_killed', 'number_of_cyclist_injured',\n",
       "       'number_of_cyclist_killed', 'number_of_motorist_injured',\n",
       "       'number_of_motorist_killed', 'contributing_factor_vehicle_1',\n",
       "       'contributing_factor_vehicle_2', 'collision_id', 'vehicle_type_code1',\n",
       "       'vehicle_type_code2', 'borough', 'zip_code',\n",
       "       'contributing_factor_vehicle_3', 'vehicle_type_code_3',\n",
       "       'contributing_factor_vehicle_4', 'contributing_factor_vehicle_5',\n",
       "       'vehicle_type_code_4', 'vehicle_type_code_5', 'contributing_factors',\n",
       "       'vehicle_types', 'location_id', 'contributingFactor_id'],\n",
       "      dtype='object')"
      ]
     },
     "execution_count": 43,
     "metadata": {},
     "output_type": "execute_result"
    }
   ],
   "source": [
    "vehicle_type_dim.columns"
   ]
  },
  {
   "cell_type": "code",
   "execution_count": 44,
   "metadata": {
    "id": "q00J1iSMStgI"
   },
   "outputs": [],
   "source": [
    "# second, subset for only the wanted columns in the dimension\n",
    "vehicle_type_dim = vehicle_type_dim[[\"vehicle_types\"]]"
   ]
  },
  {
   "cell_type": "code",
   "execution_count": 45,
   "metadata": {
    "colab": {
     "base_uri": "https://localhost:8080/",
     "height": 206
    },
    "id": "n_zFkGJ8SxYI",
    "outputId": "eda5c530-3437-4c09-ad93-dd1538d87cb0"
   },
   "outputs": [
    {
     "data": {
      "text/html": [
       "<div>\n",
       "<style scoped>\n",
       "    .dataframe tbody tr th:only-of-type {\n",
       "        vertical-align: middle;\n",
       "    }\n",
       "\n",
       "    .dataframe tbody tr th {\n",
       "        vertical-align: top;\n",
       "    }\n",
       "\n",
       "    .dataframe thead th {\n",
       "        text-align: right;\n",
       "    }\n",
       "</style>\n",
       "<table border=\"1\" class=\"dataframe\">\n",
       "  <thead>\n",
       "    <tr style=\"text-align: right;\">\n",
       "      <th></th>\n",
       "      <th>vehicle_types</th>\n",
       "    </tr>\n",
       "  </thead>\n",
       "  <tbody>\n",
       "    <tr>\n",
       "      <th>0</th>\n",
       "      <td>Sedan, Sedan</td>\n",
       "    </tr>\n",
       "    <tr>\n",
       "      <th>1</th>\n",
       "      <td>Sedan</td>\n",
       "    </tr>\n",
       "    <tr>\n",
       "      <th>2</th>\n",
       "      <td>Station Wagon/Sport Utility Vehicle, Taxi</td>\n",
       "    </tr>\n",
       "    <tr>\n",
       "      <th>3</th>\n",
       "      <td>Sedan, Station Wagon/Sport Utility Vehicle</td>\n",
       "    </tr>\n",
       "    <tr>\n",
       "      <th>4</th>\n",
       "      <td>Station Wagon/Sport Utility Vehicle</td>\n",
       "    </tr>\n",
       "  </tbody>\n",
       "</table>\n",
       "</div>"
      ],
      "text/plain": [
       "                                vehicle_types\n",
       "0                                Sedan, Sedan\n",
       "1                                       Sedan\n",
       "2   Station Wagon/Sport Utility Vehicle, Taxi\n",
       "3  Sedan, Station Wagon/Sport Utility Vehicle\n",
       "4         Station Wagon/Sport Utility Vehicle"
      ]
     },
     "execution_count": 45,
     "metadata": {},
     "output_type": "execute_result"
    }
   ],
   "source": [
    "# third, drop duplicate rows in dimension\n",
    "vehicle_type_dim = vehicle_type_dim.drop_duplicates(subset = [\"vehicle_types\"], keep = 'first')\n",
    "vehicle_type_dim = vehicle_type_dim.reset_index(drop = True)\n",
    "vehicle_type_dim.head()\n"
   ]
  },
  {
   "cell_type": "code",
   "execution_count": 46,
   "metadata": {
    "colab": {
     "base_uri": "https://localhost:8080/",
     "height": 285
    },
    "id": "0md671hXS0DP",
    "outputId": "bac4740e-9f44-4546-9585-a15454e566bb"
   },
   "outputs": [
    {
     "data": {
      "text/html": [
       "<div>\n",
       "<style scoped>\n",
       "    .dataframe tbody tr th:only-of-type {\n",
       "        vertical-align: middle;\n",
       "    }\n",
       "\n",
       "    .dataframe tbody tr th {\n",
       "        vertical-align: top;\n",
       "    }\n",
       "\n",
       "    .dataframe thead th {\n",
       "        text-align: right;\n",
       "    }\n",
       "</style>\n",
       "<table border=\"1\" class=\"dataframe\">\n",
       "  <thead>\n",
       "    <tr style=\"text-align: right;\">\n",
       "      <th></th>\n",
       "      <th>vehicletype_id</th>\n",
       "      <th>vehicle_types</th>\n",
       "    </tr>\n",
       "  </thead>\n",
       "  <tbody>\n",
       "    <tr>\n",
       "      <th>0</th>\n",
       "      <td>3000</td>\n",
       "      <td>Sedan, Sedan</td>\n",
       "    </tr>\n",
       "    <tr>\n",
       "      <th>1</th>\n",
       "      <td>3001</td>\n",
       "      <td>Sedan</td>\n",
       "    </tr>\n",
       "    <tr>\n",
       "      <th>2</th>\n",
       "      <td>3002</td>\n",
       "      <td>Station Wagon/Sport Utility Vehicle, Taxi</td>\n",
       "    </tr>\n",
       "    <tr>\n",
       "      <th>3</th>\n",
       "      <td>3003</td>\n",
       "      <td>Sedan, Station Wagon/Sport Utility Vehicle</td>\n",
       "    </tr>\n",
       "    <tr>\n",
       "      <th>4</th>\n",
       "      <td>3004</td>\n",
       "      <td>Station Wagon/Sport Utility Vehicle</td>\n",
       "    </tr>\n",
       "  </tbody>\n",
       "</table>\n",
       "</div>"
      ],
      "text/plain": [
       "   vehicletype_id                               vehicle_types\n",
       "0            3000                                Sedan, Sedan\n",
       "1            3001                                       Sedan\n",
       "2            3002   Station Wagon/Sport Utility Vehicle, Taxi\n",
       "3            3003  Sedan, Station Wagon/Sport Utility Vehicle\n",
       "4            3004         Station Wagon/Sport Utility Vehicle"
      ]
     },
     "execution_count": 46,
     "metadata": {},
     "output_type": "execute_result"
    }
   ],
   "source": [
    "# fourth, add location_id as a surrogate key\n",
    "vehicle_type_dim.insert(0, 'vehicletype_id', range(3000, 3000 + len(vehicle_type_dim)))\n",
    "vehicle_type_dim.head()"
   ]
  },
  {
   "cell_type": "code",
   "execution_count": 47,
   "metadata": {
    "colab": {
     "base_uri": "https://localhost:8080/",
     "height": 240
    },
    "id": "yw-3ffgSS0zz",
    "outputId": "70347958-db02-4697-e48d-bf33ec96d67b"
   },
   "outputs": [
    {
     "data": {
      "text/html": [
       "<div>\n",
       "<style scoped>\n",
       "    .dataframe tbody tr th:only-of-type {\n",
       "        vertical-align: middle;\n",
       "    }\n",
       "\n",
       "    .dataframe tbody tr th {\n",
       "        vertical-align: top;\n",
       "    }\n",
       "\n",
       "    .dataframe thead th {\n",
       "        text-align: right;\n",
       "    }\n",
       "</style>\n",
       "<table border=\"1\" class=\"dataframe\">\n",
       "  <thead>\n",
       "    <tr style=\"text-align: right;\">\n",
       "      <th></th>\n",
       "      <th>crash_date</th>\n",
       "      <th>latitude</th>\n",
       "      <th>longitude</th>\n",
       "      <th>number_of_persons_injured</th>\n",
       "      <th>number_of_persons_killed</th>\n",
       "      <th>number_of_pedestrians_injured</th>\n",
       "      <th>number_of_pedestrians_killed</th>\n",
       "      <th>number_of_cyclist_injured</th>\n",
       "      <th>number_of_cyclist_killed</th>\n",
       "      <th>number_of_motorist_injured</th>\n",
       "      <th>...</th>\n",
       "      <th>vehicle_type_code_3</th>\n",
       "      <th>contributing_factor_vehicle_4</th>\n",
       "      <th>contributing_factor_vehicle_5</th>\n",
       "      <th>vehicle_type_code_4</th>\n",
       "      <th>vehicle_type_code_5</th>\n",
       "      <th>contributing_factors</th>\n",
       "      <th>vehicle_types</th>\n",
       "      <th>location_id</th>\n",
       "      <th>contributingFactor_id</th>\n",
       "      <th>vehicletype_id</th>\n",
       "    </tr>\n",
       "  </thead>\n",
       "  <tbody>\n",
       "    <tr>\n",
       "      <th>0</th>\n",
       "      <td>2021-01-01T00:00:00.000</td>\n",
       "      <td>40.8249320</td>\n",
       "      <td>-73.8243100</td>\n",
       "      <td>0</td>\n",
       "      <td>0</td>\n",
       "      <td>0</td>\n",
       "      <td>0</td>\n",
       "      <td>0</td>\n",
       "      <td>0</td>\n",
       "      <td>0</td>\n",
       "      <td>...</td>\n",
       "      <td>NaN</td>\n",
       "      <td>NaN</td>\n",
       "      <td>NaN</td>\n",
       "      <td>NaN</td>\n",
       "      <td>NaN</td>\n",
       "      <td>Unspecified, Unspecified</td>\n",
       "      <td>Sedan, Sedan</td>\n",
       "      <td>1000</td>\n",
       "      <td>2000</td>\n",
       "      <td>3000</td>\n",
       "    </tr>\n",
       "    <tr>\n",
       "      <th>1</th>\n",
       "      <td>2021-01-01T00:00:00.000</td>\n",
       "      <td>40.7953100</td>\n",
       "      <td>-73.9359200</td>\n",
       "      <td>1</td>\n",
       "      <td>0</td>\n",
       "      <td>1</td>\n",
       "      <td>0</td>\n",
       "      <td>0</td>\n",
       "      <td>0</td>\n",
       "      <td>0</td>\n",
       "      <td>...</td>\n",
       "      <td>NaN</td>\n",
       "      <td>NaN</td>\n",
       "      <td>NaN</td>\n",
       "      <td>NaN</td>\n",
       "      <td>NaN</td>\n",
       "      <td>Following Too Closely</td>\n",
       "      <td>Sedan</td>\n",
       "      <td>1001</td>\n",
       "      <td>2001</td>\n",
       "      <td>3001</td>\n",
       "    </tr>\n",
       "  </tbody>\n",
       "</table>\n",
       "<p>2 rows × 29 columns</p>\n",
       "</div>"
      ],
      "text/plain": [
       "                crash_date    latitude    longitude number_of_persons_injured  \\\n",
       "0  2021-01-01T00:00:00.000  40.8249320  -73.8243100                         0   \n",
       "1  2021-01-01T00:00:00.000  40.7953100  -73.9359200                         1   \n",
       "\n",
       "  number_of_persons_killed number_of_pedestrians_injured  \\\n",
       "0                        0                             0   \n",
       "1                        0                             1   \n",
       "\n",
       "  number_of_pedestrians_killed number_of_cyclist_injured  \\\n",
       "0                            0                         0   \n",
       "1                            0                         0   \n",
       "\n",
       "  number_of_cyclist_killed number_of_motorist_injured  ...  \\\n",
       "0                        0                          0  ...   \n",
       "1                        0                          0  ...   \n",
       "\n",
       "  vehicle_type_code_3 contributing_factor_vehicle_4  \\\n",
       "0                 NaN                           NaN   \n",
       "1                 NaN                           NaN   \n",
       "\n",
       "  contributing_factor_vehicle_5 vehicle_type_code_4 vehicle_type_code_5  \\\n",
       "0                           NaN                 NaN                 NaN   \n",
       "1                           NaN                 NaN                 NaN   \n",
       "\n",
       "       contributing_factors vehicle_types location_id contributingFactor_id  \\\n",
       "0  Unspecified, Unspecified  Sedan, Sedan        1000                  2000   \n",
       "1     Following Too Closely         Sedan        1001                  2001   \n",
       "\n",
       "  vehicletype_id  \n",
       "0           3000  \n",
       "1           3001  \n",
       "\n",
       "[2 rows x 29 columns]"
      ]
     },
     "execution_count": 47,
     "metadata": {},
     "output_type": "execute_result"
    }
   ],
   "source": [
    "# fifth, add the location_id to the Fact table\n",
    "data = data.merge(vehicle_type_dim[['vehicle_types',\n",
    "                                 'vehicletype_id']],\n",
    "                  left_on = ['vehicle_types'],\n",
    "                  right_on = ['vehicle_types'],\n",
    "                  how = 'left')\n",
    "\n",
    "data.head(2)"
   ]
  },
  {
   "cell_type": "markdown",
   "metadata": {
    "id": "3stzhksIyKtN"
   },
   "source": [
    "### Step 10: Create Date Dimension"
   ]
  },
  {
   "cell_type": "code",
   "execution_count": 48,
   "metadata": {
    "colab": {
     "base_uri": "https://localhost:8080/"
    },
    "id": "tw2DTZ0LyKtN",
    "outputId": "d2a7a74c-686c-4316-f077-56e9ed818fa5"
   },
   "outputs": [
    {
     "name": "stdout",
     "output_type": "stream",
     "text": [
      "date dimension created successfully, shape of dimension: (731, 7)\n"
     ]
    }
   ],
   "source": [
    "## ACTION REQUIRED: update the start and end date at the bottom of the sql_query variable to fit your needs\n",
    "\n",
    "sql_query = \"\"\"\n",
    "            SELECT\n",
    "              CONCAT (FORMAT_DATE(\"%Y\",d),FORMAT_DATE(\"%m\",d),FORMAT_DATE(\"%d\",d)) as date_id,\n",
    "              d AS full_date,\n",
    "              FORMAT_DATE('%w', d) AS week_day,\n",
    "              FORMAT_DATE('%A', d) AS day_name,\n",
    "              FORMAT_DATE('%B', d) as month_name,\n",
    "              FORMAT_DATE('%Q', d) as fiscal_qtr,\n",
    "              FORMAT_DATE('%Y', d) AS year,\n",
    "            FROM (\n",
    "              SELECT\n",
    "                *\n",
    "              FROM\n",
    "                UNNEST(GENERATE_DATE_ARRAY('2021-01-01', '2023-01-01', INTERVAL 1 DAY)) AS d )\n",
    "            \"\"\"\n",
    "\n",
    "# store extracted data in new dataframe\n",
    "date_dim = bigquery_client.query(sql_query).to_dataframe()\n",
    "\n",
    "# validate that > 0 rows have been extracted and return dataframe\n",
    "if len(date_dim) > 0:\n",
    "    print(f\"date dimension created successfully, shape of dimension: {date_dim.shape}\")\n",
    "else:\n",
    "    print(\"date dimension FAILED\")"
   ]
  },
  {
   "cell_type": "code",
   "execution_count": 49,
   "metadata": {
    "id": "MvK_oU1zyKtN"
   },
   "outputs": [],
   "source": [
    "# create date_id column in the Fact Table\n",
    "data['date_id'] = data['crash_date'].apply(lambda x: pd.to_datetime(x).strftime(\"%Y%m%d\"))"
   ]
  },
  {
   "cell_type": "code",
   "execution_count": 50,
   "metadata": {
    "colab": {
     "base_uri": "https://localhost:8080/",
     "height": 0
    },
    "id": "FtGtJm2jh5fM",
    "outputId": "ed3423be-784a-4398-be33-eb33be959087"
   },
   "outputs": [
    {
     "data": {
      "text/html": [
       "<div>\n",
       "<style scoped>\n",
       "    .dataframe tbody tr th:only-of-type {\n",
       "        vertical-align: middle;\n",
       "    }\n",
       "\n",
       "    .dataframe tbody tr th {\n",
       "        vertical-align: top;\n",
       "    }\n",
       "\n",
       "    .dataframe thead th {\n",
       "        text-align: right;\n",
       "    }\n",
       "</style>\n",
       "<table border=\"1\" class=\"dataframe\">\n",
       "  <thead>\n",
       "    <tr style=\"text-align: right;\">\n",
       "      <th></th>\n",
       "      <th>date_id</th>\n",
       "      <th>full_date</th>\n",
       "      <th>week_day</th>\n",
       "      <th>day_name</th>\n",
       "      <th>month_name</th>\n",
       "      <th>fiscal_qtr</th>\n",
       "      <th>year</th>\n",
       "    </tr>\n",
       "  </thead>\n",
       "  <tbody>\n",
       "    <tr>\n",
       "      <th>0</th>\n",
       "      <td>20210101</td>\n",
       "      <td>2021-01-01</td>\n",
       "      <td>5</td>\n",
       "      <td>Friday</td>\n",
       "      <td>January</td>\n",
       "      <td>1</td>\n",
       "      <td>2021</td>\n",
       "    </tr>\n",
       "    <tr>\n",
       "      <th>1</th>\n",
       "      <td>20210102</td>\n",
       "      <td>2021-01-02</td>\n",
       "      <td>6</td>\n",
       "      <td>Saturday</td>\n",
       "      <td>January</td>\n",
       "      <td>1</td>\n",
       "      <td>2021</td>\n",
       "    </tr>\n",
       "    <tr>\n",
       "      <th>2</th>\n",
       "      <td>20210103</td>\n",
       "      <td>2021-01-03</td>\n",
       "      <td>0</td>\n",
       "      <td>Sunday</td>\n",
       "      <td>January</td>\n",
       "      <td>1</td>\n",
       "      <td>2021</td>\n",
       "    </tr>\n",
       "    <tr>\n",
       "      <th>3</th>\n",
       "      <td>20210104</td>\n",
       "      <td>2021-01-04</td>\n",
       "      <td>1</td>\n",
       "      <td>Monday</td>\n",
       "      <td>January</td>\n",
       "      <td>1</td>\n",
       "      <td>2021</td>\n",
       "    </tr>\n",
       "    <tr>\n",
       "      <th>4</th>\n",
       "      <td>20210105</td>\n",
       "      <td>2021-01-05</td>\n",
       "      <td>2</td>\n",
       "      <td>Tuesday</td>\n",
       "      <td>January</td>\n",
       "      <td>1</td>\n",
       "      <td>2021</td>\n",
       "    </tr>\n",
       "  </tbody>\n",
       "</table>\n",
       "</div>"
      ],
      "text/plain": [
       "    date_id   full_date week_day  day_name month_name fiscal_qtr  year\n",
       "0  20210101  2021-01-01        5    Friday    January          1  2021\n",
       "1  20210102  2021-01-02        6  Saturday    January          1  2021\n",
       "2  20210103  2021-01-03        0    Sunday    January          1  2021\n",
       "3  20210104  2021-01-04        1    Monday    January          1  2021\n",
       "4  20210105  2021-01-05        2   Tuesday    January          1  2021"
      ]
     },
     "execution_count": 50,
     "metadata": {},
     "output_type": "execute_result"
    }
   ],
   "source": [
    "date_dim.head()"
   ]
  },
  {
   "cell_type": "markdown",
   "metadata": {
    "id": "DGnmiv3ryKtO"
   },
   "source": [
    "### Step 11: Creating Fact(s)"
   ]
  },
  {
   "cell_type": "code",
   "execution_count": 51,
   "metadata": {
    "id": "T_y_VsJNyKtO"
   },
   "outputs": [],
   "source": [
    "# Creating Accident Fact Table\n",
    "\n",
    "# creating a copy of the data table\n",
    "fact_table = data.copy()\n",
    "\n",
    "# create measures\n",
    "#fact_table[\"days_open\"] = pd.to_datetime(fact_table['closed_date']) - pd.to_datetime(fact_table['created_date'])\n",
    "#fact_table[\"days_open\"] = fact_table[\"days_open\"].apply(lambda x: x.days)\n",
    "\n",
    "#fact_table[\"number_of_complaints\"] = 1"
   ]
  },
  {
   "cell_type": "code",
   "execution_count": 52,
   "metadata": {
    "id": "GXkSNGY3yKtO"
   },
   "outputs": [],
   "source": [
    "# histogram of days_open\n",
    "#fact_table[\"days_open\"].hist(bins = 5)"
   ]
  },
  {
   "cell_type": "code",
   "execution_count": 53,
   "metadata": {
    "colab": {
     "base_uri": "https://localhost:8080/"
    },
    "id": "EIOZCJs9jGNi",
    "outputId": "a29c252e-88ca-477a-91fc-a90a39fe8091"
   },
   "outputs": [
    {
     "data": {
      "text/plain": [
       "Index(['crash_date', 'latitude', 'longitude', 'number_of_persons_injured',\n",
       "       'number_of_persons_killed', 'number_of_pedestrians_injured',\n",
       "       'number_of_pedestrians_killed', 'number_of_cyclist_injured',\n",
       "       'number_of_cyclist_killed', 'number_of_motorist_injured',\n",
       "       'number_of_motorist_killed', 'contributing_factor_vehicle_1',\n",
       "       'contributing_factor_vehicle_2', 'collision_id', 'vehicle_type_code1',\n",
       "       'vehicle_type_code2', 'borough', 'zip_code',\n",
       "       'contributing_factor_vehicle_3', 'vehicle_type_code_3',\n",
       "       'contributing_factor_vehicle_4', 'contributing_factor_vehicle_5',\n",
       "       'vehicle_type_code_4', 'vehicle_type_code_5', 'contributing_factors',\n",
       "       'vehicle_types', 'location_id', 'contributingFactor_id',\n",
       "       'vehicletype_id', 'date_id'],\n",
       "      dtype='object')"
      ]
     },
     "execution_count": 53,
     "metadata": {},
     "output_type": "execute_result"
    }
   ],
   "source": [
    "fact_table.columns"
   ]
  },
  {
   "cell_type": "code",
   "execution_count": 54,
   "metadata": {
    "colab": {
     "base_uri": "https://localhost:8080/",
     "height": 270
    },
    "id": "2YXLSgFayKtO",
    "outputId": "91cf9177-981b-4874-8b1e-27ebd9a7adae"
   },
   "outputs": [
    {
     "data": {
      "text/html": [
       "<div>\n",
       "<style scoped>\n",
       "    .dataframe tbody tr th:only-of-type {\n",
       "        vertical-align: middle;\n",
       "    }\n",
       "\n",
       "    .dataframe tbody tr th {\n",
       "        vertical-align: top;\n",
       "    }\n",
       "\n",
       "    .dataframe thead th {\n",
       "        text-align: right;\n",
       "    }\n",
       "</style>\n",
       "<table border=\"1\" class=\"dataframe\">\n",
       "  <thead>\n",
       "    <tr style=\"text-align: right;\">\n",
       "      <th></th>\n",
       "      <th>collision_id</th>\n",
       "      <th>date_id</th>\n",
       "      <th>location_id</th>\n",
       "      <th>contributingFactor_id</th>\n",
       "      <th>vehicletype_id</th>\n",
       "      <th>number_of_persons_injured</th>\n",
       "      <th>number_of_persons_killed</th>\n",
       "      <th>number_of_pedestrians_injured</th>\n",
       "      <th>number_of_pedestrians_killed</th>\n",
       "    </tr>\n",
       "  </thead>\n",
       "  <tbody>\n",
       "    <tr>\n",
       "      <th>0</th>\n",
       "      <td>4381298</td>\n",
       "      <td>20210101</td>\n",
       "      <td>1000</td>\n",
       "      <td>2000</td>\n",
       "      <td>3000</td>\n",
       "      <td>0</td>\n",
       "      <td>0</td>\n",
       "      <td>0</td>\n",
       "      <td>0</td>\n",
       "    </tr>\n",
       "    <tr>\n",
       "      <th>1</th>\n",
       "      <td>4383118</td>\n",
       "      <td>20210101</td>\n",
       "      <td>1001</td>\n",
       "      <td>2001</td>\n",
       "      <td>3001</td>\n",
       "      <td>1</td>\n",
       "      <td>0</td>\n",
       "      <td>1</td>\n",
       "      <td>0</td>\n",
       "    </tr>\n",
       "    <tr>\n",
       "      <th>2</th>\n",
       "      <td>4382769</td>\n",
       "      <td>20210101</td>\n",
       "      <td>1002</td>\n",
       "      <td>2002</td>\n",
       "      <td>3001</td>\n",
       "      <td>0</td>\n",
       "      <td>0</td>\n",
       "      <td>0</td>\n",
       "      <td>0</td>\n",
       "    </tr>\n",
       "    <tr>\n",
       "      <th>3</th>\n",
       "      <td>4381189</td>\n",
       "      <td>20210101</td>\n",
       "      <td>1002</td>\n",
       "      <td>2003</td>\n",
       "      <td>3001</td>\n",
       "      <td>1</td>\n",
       "      <td>0</td>\n",
       "      <td>0</td>\n",
       "      <td>0</td>\n",
       "    </tr>\n",
       "    <tr>\n",
       "      <th>4</th>\n",
       "      <td>4380754</td>\n",
       "      <td>20210101</td>\n",
       "      <td>1003</td>\n",
       "      <td>2004</td>\n",
       "      <td>3000</td>\n",
       "      <td>1</td>\n",
       "      <td>0</td>\n",
       "      <td>0</td>\n",
       "      <td>0</td>\n",
       "    </tr>\n",
       "  </tbody>\n",
       "</table>\n",
       "</div>"
      ],
      "text/plain": [
       "  collision_id   date_id  location_id  contributingFactor_id  vehicletype_id  \\\n",
       "0      4381298  20210101         1000                   2000            3000   \n",
       "1      4383118  20210101         1001                   2001            3001   \n",
       "2      4382769  20210101         1002                   2002            3001   \n",
       "3      4381189  20210101         1002                   2003            3001   \n",
       "4      4380754  20210101         1003                   2004            3000   \n",
       "\n",
       "  number_of_persons_injured number_of_persons_killed  \\\n",
       "0                         0                        0   \n",
       "1                         1                        0   \n",
       "2                         0                        0   \n",
       "3                         1                        0   \n",
       "4                         1                        0   \n",
       "\n",
       "  number_of_pedestrians_injured number_of_pedestrians_killed  \n",
       "0                             0                            0  \n",
       "1                             1                            0  \n",
       "2                             0                            0  \n",
       "3                             0                            0  \n",
       "4                             0                            0  "
      ]
     },
     "execution_count": 54,
     "metadata": {},
     "output_type": "execute_result"
    }
   ],
   "source": [
    "# take a subset of fact_table for only the needed columns: which are keys and measures\n",
    "fact_table = fact_table[[\"collision_id\",\n",
    "                         \"date_id\",\n",
    "                         \"location_id\",\n",
    "                         \"contributingFactor_id\",\n",
    "                         \"vehicletype_id\",\n",
    "                         \"number_of_persons_injured\", \n",
    "                         \"number_of_persons_killed\",\n",
    "                        \"number_of_pedestrians_injured\", \n",
    "                        \"number_of_pedestrians_killed\"]]\n",
    "\n",
    "fact_table.head()"
   ]
  },
  {
   "cell_type": "markdown",
   "metadata": {
    "id": "DT2DO9DUyKtO"
   },
   "source": [
    "### Step 12: Deliver Facts and Dimensions to Data Warehouse (BigQuery)"
   ]
  },
  {
   "cell_type": "code",
   "execution_count": 55,
   "metadata": {
    "id": "_xnB0rmwyKtO"
   },
   "outputs": [],
   "source": [
    "# create a function to load dataframes to BigQuery\n",
    "\n",
    "def load_table_to_bigquery(df,\n",
    "                          table_name,\n",
    "                          dataset_id):\n",
    "\n",
    "    dataset_id = dataset_id #change 301800 to match your project id\n",
    "\n",
    "    dataset_ref = bigquery_client.dataset(dataset_id)\n",
    "    job_config = bigquery.LoadJobConfig()\n",
    "    job_config.autodetect = True\n",
    "    job_config.write_disposition = \"WRITE_TRUNCATE\"\n",
    "\n",
    "    upload_table_name = f\"{dataset_id}.{table_name}\"\n",
    "    \n",
    "    load_job = bigquery_client.load_table_from_dataframe(df,\n",
    "                                                upload_table_name,\n",
    "                                                job_config = job_config)\n",
    "        \n",
    "    print(f\"Starting job {load_job}\")"
   ]
  },
  {
   "cell_type": "code",
   "execution_count": 56,
   "metadata": {
    "colab": {
     "base_uri": "https://localhost:8080/",
     "height": 514
    },
    "id": "DyHH7Xw2yKtO",
    "outputId": "682c328a-98b0-4e31-b130-dc629e725f72"
   },
   "outputs": [
    {
     "name": "stdout",
     "output_type": "stream",
     "text": [
      "Starting job LoadJob<project=cis9440-final-project, location=US, id=f516a36e-e665-413a-8bb5-ccb43ccce946>\n"
     ]
    }
   ],
   "source": [
    "# load your first dimension to BigQuery\n",
    "\n",
    "load_table_to_bigquery(df = location_dim,\n",
    "                      table_name = \"location_dim\",\n",
    "                      dataset_id = dataset_id)"
   ]
  },
  {
   "cell_type": "code",
   "execution_count": 57,
   "metadata": {
    "colab": {
     "base_uri": "https://localhost:8080/",
     "height": 514
    },
    "id": "IwakkO_AyKtP",
    "outputId": "0b2170eb-e8af-48a3-f1c1-75bcf8164d3c"
   },
   "outputs": [
    {
     "name": "stdout",
     "output_type": "stream",
     "text": [
      "Starting job LoadJob<project=cis9440-final-project, location=US, id=24674fec-387a-47ff-9a39-aeea06721b85>\n"
     ]
    }
   ],
   "source": [
    "# load your second dimension to BigQuery\n",
    "\n",
    "load_table_to_bigquery(df = vehicle_type_dim,\n",
    "                      table_name = \"vehicle_type_dim\",\n",
    "                      dataset_id = dataset_id)"
   ]
  },
  {
   "cell_type": "code",
   "execution_count": 58,
   "metadata": {
    "colab": {
     "base_uri": "https://localhost:8080/",
     "height": 514
    },
    "id": "Yh_UjeXzyKtP",
    "outputId": "0ccd469c-dd10-416d-e77c-72c798400eec"
   },
   "outputs": [
    {
     "name": "stdout",
     "output_type": "stream",
     "text": [
      "Starting job LoadJob<project=cis9440-final-project, location=US, id=a8a1625e-d4d7-4214-bd72-55cf4630b152>\n"
     ]
    }
   ],
   "source": [
    "# load your third dimension to BigQuery\n",
    "\n",
    "load_table_to_bigquery(df = date_dim,\n",
    "                      table_name = \"date_dim\",\n",
    "                      dataset_id = dataset_id)"
   ]
  },
  {
   "cell_type": "code",
   "execution_count": 59,
   "metadata": {
    "colab": {
     "base_uri": "https://localhost:8080/",
     "height": 514
    },
    "id": "oWmWpKJXxXOR",
    "outputId": "2e8d87a5-76cf-4395-dfb9-f131435e62a4"
   },
   "outputs": [
    {
     "name": "stdout",
     "output_type": "stream",
     "text": [
      "Starting job LoadJob<project=cis9440-final-project, location=US, id=e8e6dd92-bb9a-41f1-9a39-6145e4669843>\n"
     ]
    }
   ],
   "source": [
    "# load your fourth dimension to BigQuery\n",
    "\n",
    "load_table_to_bigquery(df = contributingFactor_dim,\n",
    "                      table_name = \"contributingFactor_dim\",\n",
    "                      dataset_id = dataset_id)"
   ]
  },
  {
   "cell_type": "code",
   "execution_count": 60,
   "metadata": {
    "colab": {
     "base_uri": "https://localhost:8080/",
     "height": 514
    },
    "id": "gWHDZJRXyKtP",
    "outputId": "c45b1000-a20b-4145-a210-888caf0905bd"
   },
   "outputs": [
    {
     "name": "stdout",
     "output_type": "stream",
     "text": [
      "Starting job LoadJob<project=cis9440-final-project, location=US, id=822472b7-04d5-4b20-8697-c7584dfa65c5>\n"
     ]
    }
   ],
   "source": [
    "# load your fact table to BigQuery\n",
    "\n",
    "load_table_to_bigquery(df = fact_table,\n",
    "                      table_name = \"Collision fact\",\n",
    "                      dataset_id = dataset_id)"
   ]
  },
  {
   "cell_type": "code",
   "execution_count": null,
   "metadata": {},
   "outputs": [],
   "source": []
  }
 ],
 "metadata": {
  "colab": {
   "name": "Group 14_ETL.ipynb",
   "provenance": []
  },
  "kernelspec": {
   "display_name": "Python 3",
   "language": "python",
   "name": "python3"
  },
  "language_info": {
   "codemirror_mode": {
    "name": "ipython",
    "version": 3
   },
   "file_extension": ".py",
   "mimetype": "text/x-python",
   "name": "python",
   "nbconvert_exporter": "python",
   "pygments_lexer": "ipython3",
   "version": "3.8.8"
  }
 },
 "nbformat": 4,
 "nbformat_minor": 1
}
